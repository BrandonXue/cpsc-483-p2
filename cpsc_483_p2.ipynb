{
 "cells": [
  {
   "cell_type": "markdown",
   "metadata": {},
   "source": [
    "# Project 2 - Polynomial Models for Boston House Prices\n",
    "\n",
    "## Group members\n",
    "\n",
    "* Michael Peralta (mikeperalta@csu.fullerton.edu)\n",
    "   \n",
    "* Brandon Xue (brandonx@csu.fullerton.edu)\n",
    "\n",
    "### CPSC 483-02, Section ID: 33018"
   ]
  },
  {
   "cell_type": "markdown",
   "metadata": {},
   "source": [
    "# Experiment 1\n",
    "Load and examine the Boston dataset’s features, target values, and description."
   ]
  },
  {
   "cell_type": "code",
   "execution_count": 1,
   "metadata": {},
   "outputs": [
    {
     "name": "stdout",
     "output_type": "stream",
     "text": [
      "--- Loaded Boston dataset; Ready for examination\n",
      "******************************\n",
      "> *** BEGIN DESCRIPTION ***\n",
      ".. _boston_dataset:\n",
      "\n",
      "Boston house prices dataset\n",
      "---------------------------\n",
      "\n",
      "**Data Set Characteristics:**  \n",
      "\n",
      "    :Number of Instances: 506 \n",
      "\n",
      "    :Number of Attributes: 13 numeric/categorical predictive. Median Value (attribute 14) is usually the target.\n",
      "\n",
      "    :Attribute Information (in order):\n",
      "        - CRIM     per capita crime rate by town\n",
      "        - ZN       proportion of residential land zoned for lots over 25,000 sq.ft.\n",
      "        - INDUS    proportion of non-retail business acres per town\n",
      "        - CHAS     Charles River dummy variable (= 1 if tract bounds river; 0 otherwise)\n",
      "        - NOX      nitric oxides concentration (parts per 10 million)\n",
      "        - RM       average number of rooms per dwelling\n",
      "        - AGE      proportion of owner-occupied units built prior to 1940\n",
      "        - DIS      weighted distances to five Boston employment centres\n",
      "        - RAD      index of accessibility to radial highways\n",
      "        - TAX      full-value property-tax rate per $10,000\n",
      "        - PTRATIO  pupil-teacher ratio by town\n",
      "        - B        1000(Bk - 0.63)^2 where Bk is the proportion of blacks by town\n",
      "        - LSTAT    % lower status of the population\n",
      "        - MEDV     Median value of owner-occupied homes in $1000's\n",
      "\n",
      "    :Missing Attribute Values: None\n",
      "\n",
      "    :Creator: Harrison, D. and Rubinfeld, D.L.\n",
      "\n",
      "This is a copy of UCI ML housing dataset.\n",
      "https://archive.ics.uci.edu/ml/machine-learning-databases/housing/\n",
      "\n",
      "\n",
      "This dataset was taken from the StatLib library which is maintained at Carnegie Mellon University.\n",
      "\n",
      "The Boston house-price data of Harrison, D. and Rubinfeld, D.L. 'Hedonic\n",
      "prices and the demand for clean air', J. Environ. Economics & Management,\n",
      "vol.5, 81-102, 1978.   Used in Belsley, Kuh & Welsch, 'Regression diagnostics\n",
      "...', Wiley, 1980.   N.B. Various transformations are used in the table on\n",
      "pages 244-261 of the latter.\n",
      "\n",
      "The Boston house-price data has been used in many machine learning papers that address regression\n",
      "problems.   \n",
      "     \n",
      ".. topic:: References\n",
      "\n",
      "   - Belsley, Kuh & Welsch, 'Regression diagnostics: Identifying Influential Data and Sources of Collinearity', Wiley, 1980. 244-261.\n",
      "   - Quinlan,R. (1993). Combining Instance-Based and Model-Based Learning. In Proceedings on the Tenth International Conference of Machine Learning, 236-243, University of Massachusetts, Amherst. Morgan Kaufmann.\n",
      "\n",
      "> *** END DESCRIPTION ***\n",
      "******************************\n",
      "\n",
      "> Features shape: (506, 13)\n",
      "> Feature names:  ['CRIM' 'ZN' 'INDUS' 'CHAS' 'NOX' 'RM' 'AGE' 'DIS' 'RAD' 'TAX' 'PTRATIO'\n",
      " 'B' 'LSTAT']\n",
      "> Number of Features: 13\n",
      "> Number of Target values: 506\n"
     ]
    }
   ],
   "source": [
    "\n",
    "# Experiment 1\n",
    "\n",
    "import sklearn.datasets as sklearn_datasets\n",
    "import pandas as pd\n",
    "\n",
    "\n",
    "# Import the Boston house prices dataset\n",
    "# (load)\n",
    "boston_house_data = sklearn_datasets.load_boston()\n",
    "\n",
    "\n",
    "# Print out various properties of the Boston house prices dataset\n",
    "# (examine)\n",
    "print(\"--- Loaded Boston dataset; Ready for examination\")\n",
    "print(\"*\" * 30)\n",
    "print(\"> *** BEGIN DESCRIPTION ***\")\n",
    "print(boston_house_data.DESCR) # description\n",
    "print(\"> *** END DESCRIPTION ***\")\n",
    "print(\"*\" * 30)\n",
    "print()\n",
    "print(\"> Features shape:\", boston_house_data.data.shape)\n",
    "print(\"> Feature names: \", boston_house_data.feature_names) # feature names\n",
    "print(\"> Number of Features:\", len(boston_house_data.data[0,:])) # features\n",
    "print(\"> Number of Target values:\", len(boston_house_data.target)) # targets\n",
    "\n",
    "\n"
   ]
  },
  {
   "cell_type": "markdown",
   "metadata": {},
   "source": [
    "# Experiment 2\n",
    "Use *sklearn.model_selection.train_test_split()* to split the features and values into separate training and test sets. Use 80% of the original data as a training set, and 20% for testing.\n"
   ]
  },
  {
   "cell_type": "code",
   "execution_count": 2,
   "metadata": {},
   "outputs": [
    {
     "name": "stdout",
     "output_type": "stream",
     "text": [
      "Training set shape: (404, 14)\n",
      "Training set shape: (404, 14)\n",
      "Testing set shape: (102, 14)\n",
      "Testing set shape: (102, 14)\n",
      "\n"
     ]
    }
   ],
   "source": [
    "# Experiment 2\n",
    "# Partition into training and testing sets\n",
    "\n",
    "\n",
    "from sklearn import model_selection\n",
    "\n",
    "\n",
    "# TODO: What is this?\n",
    "# data_with_targets = zip(boston_house_data.data, boston_house_data.target)\n",
    "# print(\"Data_with_targets:\", data_with_targets)\n",
    "\n",
    "\n",
    "# Load the boston data into a pandas data frame\n",
    "boston_house_data_frame = pd.DataFrame(data=boston_house_data.data, columns=boston_house_data.feature_names)\n",
    "\n",
    "# Add targets to same data frame so they stay paired with other data\n",
    "boston_house_data_frame.insert(len(boston_house_data_frame.columns), 'TARGET', boston_house_data.target)\n",
    "\n",
    "# Split the data into a training set (80%), and a test set (20%)\n",
    "# train_test_split returns a list of the train-test split of inputs\n",
    "boston_training_set, boston_testing_set = model_selection.train_test_split(\n",
    "    boston_house_data_frame,  # Original data to split\n",
    "    train_size=0.8,  # Retain 80% of the data for training (remaining becomes testing)\n",
    "    random_state=113  # Randomize the data before splitting, but use a stable seed for repeatable results\n",
    ")\n",
    "print(\"Training set shape:\", boston_training_set.shape)\n",
    "print(\"Training set shape:\", boston_training_set.shape)\n",
    "print(\"Testing set shape:\", boston_testing_set.shape)\n",
    "print(\"Testing set shape:\", boston_testing_set.shape)\n",
    "print()\n",
    "\n"
   ]
  },
  {
   "cell_type": "markdown",
   "metadata": {},
   "source": [
    "# Experiment 3\n",
    "Create a *scatterplot* of the training set showing the relationship between the feature LSTAT and the target value MEDV.\n",
    "\n",
    "***Question***: Does the relationship appear to be linear?"
   ]
  },
  {
   "cell_type": "code",
<<<<<<< HEAD
   "execution_count": 3,
=======
<<<<<<< HEAD
   "execution_count": 1,
=======
   "execution_count": 3,
>>>>>>> d5f561cce0756e4ab50a407ec58a54ec10956216
>>>>>>> mikestuff
   "metadata": {},
   "outputs": [
    {
     "data": {
      "text/plain": [
       "Text(0.5, 0.98, 'Training Data')"
      ]
     },
<<<<<<< HEAD
=======
<<<<<<< HEAD
     "metadata": {},
     "execution_count": 1
=======
>>>>>>> mikestuff
     "execution_count": 3,
     "metadata": {},
     "output_type": "execute_result"
    },
    {
     "data": {
      "image/png": "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\n",
      "text/plain": [
       "<Figure size 432x288 with 1 Axes>"
      ]
     },
     "metadata": {
      "needs_background": "light"
     },
     "output_type": "display_data"
<<<<<<< HEAD
=======
>>>>>>> d5f561cce0756e4ab50a407ec58a54ec10956216
>>>>>>> mikestuff
    }
   ],
   "source": [
    "# Experiment 3. Scatter plot of training data\n",
    "\n",
    "import matplotlib.pyplot as plt\n",
    "\n",
    "# Ask pyplot for a figure and axis, for a new plot\n",
    "fig, ax = plt.subplots()\n",
    "\n",
    "# Show the relationship between feature LSTAT and TARGET values, using a scatter plot\n",
    "ax.scatter(boston_training_set.LSTAT, boston_training_set.TARGET, label=\"LSTAT vs. MEDV\")\n",
    "ax.legend()\n",
    "fig.suptitle(\"Training Data\")\n",
    "\n",
    "# TODO: What is this?\n",
    "#retval = ax.set(xlabel=\"Training LSTAT (%)\", ylabel=\"Training MEDV (1000 USD)\", title=\"Training MEDV vs. Training LSTAT\")"
   ]
  },
  {
   "cell_type": "markdown",
   "metadata": {},
   "source": [
    "## Does the relationship appear to be linear?\n",
    "\n",
    "The above relationship between the feature LSTAT and the target value MEDV does not quite appear to be linear. If we only examined LSTAT ranges from 10 to 25, it might, but the overall data appears to show a non-linear relationship."
   ]
  },
  {
   "cell_type": "markdown",
   "metadata": {},
   "source": [
    "# Experiment 4\n",
    "With LSTAT as ***X*** and MEDV as ***t***, use *np.linalg.inv()* to compute ***w*** for the training set.\n",
    "\n",
    "***Question***: What is the equation for MEDV as a linear function of LSTAT?"
   ]
  },
  {
   "cell_type": "markdown",
   "metadata": {},
   "source": [
    "We will use the following formula to compute the weights:\n",
    "\n",
    "$$\n",
    "w = (X^TX)^{-1}X^Tt\n",
    "$$\n",
    "\n",
    "(found in the linear_regression_vectors_and_matrices.ipynb notebook)\n",
    "\n",
    "The equation for MEDV as a linear function of LSTAT is written after the code below."
   ]
  },
  {
   "cell_type": "code",
<<<<<<< HEAD
   "execution_count": 4,
=======
<<<<<<< HEAD
   "execution_count": 14,
=======
   "execution_count": 4,
>>>>>>> d5f561cce0756e4ab50a407ec58a54ec10956216
>>>>>>> mikestuff
   "metadata": {},
   "outputs": [
    {
     "name": "stdout",
     "output_type": "stream",
     "text": [
      "x_lstat_training shape: (404,)\n",
      "\n",
      "X_lstat_linear_training shape: (404, 2)\n",
      "\n",
      "XTX shape: (2, 2)\n",
      "XTX^-1 shape: (2, 2)\n",
      "XTt: [ 9152.4   96065.778]\n",
      "XTt shape: (2,)\n",
      "lstat_linear_weights: [34.38436369 -0.93878862]\n",
      "lstat_linear_weights shape: (2,)\n",
      "\n"
     ]
    }
   ],
   "source": [
    "\n",
    "# Import numpy, yay\n",
    "import numpy as np\n",
    "\n",
    "\n",
<<<<<<< HEAD
=======
<<<<<<< HEAD
    "# train_test_split returns a list of the train-test split of inputs\n",
    "train, test = model_selection.train_test_split(bs_df, train_size=0.8)"
=======
>>>>>>> mikestuff
    "# x_lstat_training will be LSTAT of the training set\n",
    "# We can combine it with a preceding column of one's for the intercept\n",
    "# (LSTAT will be the next column)\n",
    "\n",
    "# Pull LSTAT from the training set, and stick it into a numpy array\n",
    "x_lstat_training = np.array(boston_training_set[\"LSTAT\"])  # Pull LSTAT from training\n",
    "# print(\"x_lstat_training:\", x_lstat_training)\n",
    "print(\"x_lstat_training shape:\", x_lstat_training.shape)\n",
    "print()\n",
    "\n",
    "# Now, X_lstat_linear_training will be the matrix we'll solve against (training data)\n",
    "# Start with the x_lstat_training values in a column of a matrix\n",
    "X_lstat_linear_training = x_lstat_training.reshape(x_lstat_training.shape[0], 1)\n",
    "# Stick 1's for the intercept in the first column then the LSTAT column as the second column\n",
    "X_lstat_linear_training = np.hstack((np.ones_like(X_lstat_linear_training), X_lstat_linear_training))\n",
    "# print(\"X_lstat_linear_training: \", X)\n",
    "print(\"X_lstat_linear_training shape:\", X_lstat_linear_training.shape)\n",
    "print()\n",
    "\n",
    "\n",
    "# Build each part of the formula piece by piece\n",
    "XTX = np.dot(X_lstat_linear_training.T, X_lstat_linear_training)\n",
    "XTX_inv = np.linalg.inv(XTX)\n",
    "XTt = np.dot(X_lstat_linear_training.T, boston_training_set[\"TARGET\"])\n",
    "lstat_linear_weights = np.dot(XTX_inv, XTt)\n",
    "# print(\"XTX:\", XTX)\n",
    "print(\"XTX shape:\", XTX.shape)\n",
    "# print(\"XTX^-1:\", XTX_inv)\n",
    "print(\"XTX^-1 shape:\", XTX_inv.shape)\n",
    "print(\"XTt:\", XTt)\n",
    "print(\"XTt shape:\", XTt.shape)\n",
    "print(\"lstat_linear_weights:\", lstat_linear_weights)\n",
    "print(\"lstat_linear_weights shape:\", lstat_linear_weights.shape)\n",
    "print()\n",
    "\n"
   ]
  },
  {
   "cell_type": "markdown",
   "metadata": {},
   "source": [
    "## Equation for MEDV as a linear function of LSTAT\n",
    "The equation for MEDV as a linear function of LSTAT is:\n",
    "\n",
    "$$\n",
    "y = 34.38436369 + (-0.93878862 * \\text{LSTAT})\n",
    "$$\n",
    "\n",
    "or rather:\n",
    "\n",
    "$$\n",
    "y = 34.38436369 -0.93878862(\\text{LSTAT})\n",
    "$$\n"
   ]
  },
  {
   "cell_type": "markdown",
   "metadata": {},
   "source": [
    "# Experiment 5\n",
    "\n",
    "Use **w** to add a line to your scatter plot from experiment *(3)*.\n",
    "\n",
    "***Question***: How well does the model appear to fit the training set?\n"
   ]
  },
  {
   "cell_type": "code",
   "execution_count": 5,
   "metadata": {
    "scrolled": true
   },
   "outputs": [
    {
     "data": {
      "text/plain": [
       "<matplotlib.legend.Legend at 0x7f804249b340>"
      ]
     },
     "execution_count": 5,
     "metadata": {},
     "output_type": "execute_result"
    },
    {
     "data": {
      "image/png": "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\n",
      "text/plain": [
       "<Figure size 432x288 with 1 Axes>"
      ]
     },
     "metadata": {
      "needs_background": "light"
     },
     "output_type": "display_data"
    }
   ],
   "source": [
    "\n",
    "# Experiment 5\n",
    "\n",
    "\n",
    "# Make some predictions for the training data\n",
    "# i.e., show the model's linear ... line\n",
    "predictions_lstat_linear_training = np.dot(X_lstat_linear_training, lstat_linear_weights)\n",
    "\n",
    "\n",
    "# Ask pyplot for a figure and axis, for a new plot\n",
    "fig, ax = plt.subplots()\n",
    "\n",
    "\n",
    "# Show the relationship between feature LSTAT and TARGET values, using a scatter plot\n",
    "# (training data)\n",
    "ax.scatter(boston_training_set.LSTAT, boston_training_set.TARGET, label=\"LSTAT vs. MEDV\")\n",
    "ax.plot(x_lstat_training, predictions_lstat_linear_training, 'r-', label=\"Predictions\")\n",
    "fig.suptitle(\"Training Data with Model Predictions\")\n",
    "ax.legend()\n"
   ]
  },
  {
   "cell_type": "markdown",
   "metadata": {},
   "source": [
    "# How well does the model appear to fit the training set?\n",
    "The model fits ... not very well with the training set. It probably has a lot more error than we would like."
   ]
  },
  {
   "cell_type": "markdown",
   "metadata": {},
   "source": [
    "# Experiment 6\n",
    "Use **w** to find the response for each value of the LSTAT attribute in the test set, then compute the test *MSE L* for the model."
<<<<<<< HEAD
=======
>>>>>>> d5f561cce0756e4ab50a407ec58a54ec10956216
>>>>>>> mikestuff
   ]
  },
  {
   "cell_type": "code",
<<<<<<< HEAD
   "execution_count": 16,
=======
<<<<<<< HEAD
   "execution_count": 15,
   "metadata": {},
   "outputs": [
    {
     "output_type": "error",
     "ename": "AttributeError",
     "evalue": "'DataFrame' object has no attribute 'TARGET'",
     "traceback": [
      "\u001b[0;31m---------------------------------------------------------------------------\u001b[0m",
      "\u001b[0;31mAttributeError\u001b[0m                            Traceback (most recent call last)",
      "\u001b[0;32m<ipython-input-15-34a2be2c2f9f>\u001b[0m in \u001b[0;36m<module>\u001b[0;34m\u001b[0m\n\u001b[1;32m      3\u001b[0m \u001b[0;34m\u001b[0m\u001b[0m\n\u001b[1;32m      4\u001b[0m \u001b[0mfig\u001b[0m\u001b[0;34m,\u001b[0m \u001b[0max\u001b[0m \u001b[0;34m=\u001b[0m \u001b[0mplt\u001b[0m\u001b[0;34m.\u001b[0m\u001b[0msubplots\u001b[0m\u001b[0;34m(\u001b[0m\u001b[0;34m)\u001b[0m\u001b[0;34m\u001b[0m\u001b[0;34m\u001b[0m\u001b[0m\n\u001b[0;32m----> 5\u001b[0;31m \u001b[0max\u001b[0m\u001b[0;34m.\u001b[0m\u001b[0mplot\u001b[0m\u001b[0;34m(\u001b[0m\u001b[0mtrain\u001b[0m\u001b[0;34m.\u001b[0m\u001b[0mLSTAT\u001b[0m\u001b[0;34m,\u001b[0m \u001b[0mtrain\u001b[0m\u001b[0;34m.\u001b[0m\u001b[0mTARGET\u001b[0m\u001b[0;34m,\u001b[0m \u001b[0;34m'c.'\u001b[0m\u001b[0;34m)\u001b[0m\u001b[0;34m\u001b[0m\u001b[0;34m\u001b[0m\u001b[0m\n\u001b[0m\u001b[1;32m      6\u001b[0m retval = ax.set(xlabel=\"Training LSTAT (%)\", ylabel=\"Training MEDV (1000 USD)\",\n\u001b[1;32m      7\u001b[0m                 title=\"Training MEDV vs. Training LSTAT\")\n",
      "\u001b[0;32m/Library/Frameworks/Python.framework/Versions/3.8/lib/python3.8/site-packages/pandas/core/generic.py\u001b[0m in \u001b[0;36m__getattr__\u001b[0;34m(self, name)\u001b[0m\n\u001b[1;32m   5134\u001b[0m             \u001b[0;32mif\u001b[0m \u001b[0mself\u001b[0m\u001b[0;34m.\u001b[0m\u001b[0m_info_axis\u001b[0m\u001b[0;34m.\u001b[0m\u001b[0m_can_hold_identifiers_and_holds_name\u001b[0m\u001b[0;34m(\u001b[0m\u001b[0mname\u001b[0m\u001b[0;34m)\u001b[0m\u001b[0;34m:\u001b[0m\u001b[0;34m\u001b[0m\u001b[0;34m\u001b[0m\u001b[0m\n\u001b[1;32m   5135\u001b[0m                 \u001b[0;32mreturn\u001b[0m \u001b[0mself\u001b[0m\u001b[0;34m[\u001b[0m\u001b[0mname\u001b[0m\u001b[0;34m]\u001b[0m\u001b[0;34m\u001b[0m\u001b[0;34m\u001b[0m\u001b[0m\n\u001b[0;32m-> 5136\u001b[0;31m             \u001b[0;32mreturn\u001b[0m \u001b[0mobject\u001b[0m\u001b[0;34m.\u001b[0m\u001b[0m__getattribute__\u001b[0m\u001b[0;34m(\u001b[0m\u001b[0mself\u001b[0m\u001b[0;34m,\u001b[0m \u001b[0mname\u001b[0m\u001b[0;34m)\u001b[0m\u001b[0;34m\u001b[0m\u001b[0;34m\u001b[0m\u001b[0m\n\u001b[0m\u001b[1;32m   5137\u001b[0m \u001b[0;34m\u001b[0m\u001b[0m\n\u001b[1;32m   5138\u001b[0m     \u001b[0;32mdef\u001b[0m \u001b[0m__setattr__\u001b[0m\u001b[0;34m(\u001b[0m\u001b[0mself\u001b[0m\u001b[0;34m,\u001b[0m \u001b[0mname\u001b[0m\u001b[0;34m:\u001b[0m \u001b[0mstr\u001b[0m\u001b[0;34m,\u001b[0m \u001b[0mvalue\u001b[0m\u001b[0;34m)\u001b[0m \u001b[0;34m->\u001b[0m \u001b[0;32mNone\u001b[0m\u001b[0;34m:\u001b[0m\u001b[0;34m\u001b[0m\u001b[0;34m\u001b[0m\u001b[0m\n",
      "\u001b[0;31mAttributeError\u001b[0m: 'DataFrame' object has no attribute 'TARGET'"
     ]
=======
   "execution_count": 6,
>>>>>>> mikestuff
   "metadata": {},
   "outputs": [
    {
     "name": "stdout",
     "output_type": "stream",
     "text": [
      "x_lstat_testing shape: (102,)\n",
      "\n",
      "X_lstat_linear_testing shape: (102, 2)\n",
      "\n",
      "predictions_lstat_linear_testing shape: (102,)\n",
      "boston_testing_set.TARGET: 22     15.2\n",
      "202    42.3\n",
      "368    50.0\n",
      "335    21.1\n",
      "461    17.7\n",
      "       ... \n",
      "86     22.5\n",
      "193    31.1\n",
      "5      28.7\n",
      "282    46.0\n",
      "232    41.7\n",
      "Name: TARGET, Length: 102, dtype: float64\n",
      "boston_testing_set.TARGET shape: (102,)\n",
      "MSE for the linear model: 39.95751318608687\n",
      "\n"
     ]
    },
    {
     "data": {
      "text/plain": [
       "Text(0.5, 0.98, 'Test Data vs. Linear Model')"
      ]
     },
     "execution_count": 16,
     "metadata": {},
     "output_type": "execute_result"
    },
    {
     "data": {
      "image/png": "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\n",
      "text/plain": [
       "<Figure size 432x288 with 1 Axes>"
      ]
     },
     "metadata": {
      "needs_background": "light"
     },
     "output_type": "display_data"
<<<<<<< HEAD
=======
>>>>>>> d5f561cce0756e4ab50a407ec58a54ec10956216
>>>>>>> mikestuff
    }
   ],
   "source": [
    "\n",
    "# Experiment 6\n",
    "\n",
    "# Pull LSTAT from the testing set, and stick it into a numpy array\n",
    "x_lstat_testing = np.array(boston_testing_set[\"LSTAT\"])  # Pull LSTAT from testing\n",
    "print(\"x_lstat_testing shape:\", x_lstat_testing.shape)\n",
    "# print(\"x_lstat_testing:\", x_lstat_testing)\n",
    "print()\n",
    "\n",
    "\n",
    "# Now, X_lstat_linear_testing will be the matrix we'll predict against\n",
    "# Start with the x_lstat values in a column of a matrix\n",
    "X_lstat_linear_testing = x_lstat_testing.reshape(x_lstat_testing.shape[0], 1)\n",
    "# Stick 1's for the intercept in the first column then the LSTAT column as the second column\n",
    "X_lstat_linear_testing = np.hstack((np.ones_like(X_lstat_linear_testing), X_lstat_linear_testing))\n",
    "# print(\"X_lstat_linear_testing: \", X_lstat_linear_testing)\n",
    "print(\"X_lstat_linear_testing shape:\", X_lstat_linear_testing.shape)\n",
    "print()\n",
    "\n",
    "\n",
    "#\n",
    "predictions_lstat_linear_testing = np.dot(X_lstat_linear_testing, lstat_linear_weights)\n",
    "print(\"predictions_lstat_linear_testing shape:\", predictions_lstat_linear_testing.shape)\n",
    "\n",
    "# TODO: Is there a more numpy-y way to do this?\n",
    "print(\"boston_testing_set.TARGET:\", boston_testing_set.TARGET)\n",
    "print(\"boston_testing_set.TARGET shape:\", boston_testing_set.TARGET.shape)\n",
    "graph_x = []\n",
    "graph_t = []\n",
    "graph_y = []  # Build the graph as we traverse the predictions, to be sure we're pulling correct values\n",
    "error_temp_sum = 0\n",
    "for n in range(len(predictions_lstat_linear_testing)):\n",
    "    \n",
    "    lstat = boston_testing_set.LSTAT.iloc[n]\n",
    "    graph_x.append(lstat)\n",
    "    \n",
    "    t = boston_testing_set.TARGET.iloc[n]\n",
    "    graph_t.append(t)\n",
    "    \n",
    "    y = predictions_lstat_linear_testing[n]\n",
    "    graph_y.append(y)\n",
    "    \n",
    "    error_squared = (t - y)**2\n",
    "    error_temp_sum += error_squared\n",
    "    \n",
    "    # print(\"Prediction:\", y)\n",
    "    # print(\"Actual:\", t)\n",
    "    # print(\"Error Squared:\", error_squared)\n",
    "    # print()\n",
    "\n",
    "mean_squared_error_linear = error_temp_sum / len(predictions_lstat_linear_testing)\n",
    "print(\"MSE for the linear model:\", mean_squared_error_linear)\n",
    "print()\n",
    "\n",
    "\n",
    "# Just for extra confidence, show a graph of the test data\n",
    "fig, ax = plt.subplots()\n",
    "ax.scatter(graph_x, graph_t, label=\"Test Data\")\n",
    "ax.plot(graph_x, graph_y, 'r-', label='Model Predictions')\n",
    "ax.legend()\n",
    "fig.suptitle(\"Test Data vs. Linear Model\")"
   ]
  },
  {
   "cell_type": "markdown",
   "metadata": {},
   "source": [
    "##  MSE For Linear Model\n",
    "\n",
    "The MSE for the linear model appears to be: 39.95751318608693"
   ]
  },
  {
   "cell_type": "markdown",
   "metadata": {},
   "source": [
    "# Experiment 7\n",
    "Now add an *x 2* column to LSTAT’s *x* column in the training set, then repeat experiments *(4)* , *(5)*, and *(6)* for MEDV as a quadratic function of LSTAT.\n",
    "\n",
    "***Question***: Does the quadratic polynomial do a better job of predicting the values in the test set?"
   ]
  },
  {
   "cell_type": "markdown",
   "metadata": {},
   "source": [
    "## Building a Quadratic Matrix"
   ]
  },
  {
   "cell_type": "code",
   "execution_count": 17,
   "metadata": {},
   "outputs": [
    {
     "name": "stdout",
     "output_type": "stream",
     "text": [
      "lstat_training_ones shape: (404, 1)\n",
      "x_squared_lstat_training shape: (404,)\n",
      "X_lstat_quadratic_training: [[  1.      12.73   162.0529]\n",
      " [  1.       4.84    23.4256]\n",
      " [  1.      10.11   102.2121]\n",
      " ...\n",
      " [  1.       1.92     3.6864]\n",
      " [  1.       9.71    94.2841]\n",
      " [  1.       9.81    96.2361]]\n",
      "X_lstat_quadratic_training shape: (404, 3)\n",
      "\n"
     ]
    }
   ],
   "source": [
    "\n",
    "# Experiment 7\n",
    "\n",
    "# Build the new training matrix\n",
    "# Same as before but add a new column representing LSTAT^2\n",
    "x_lstat_training = np.array(boston_training_set[\"LSTAT\"])  # Pull LSTAT again\n",
    "x_squared_lstat_training = x_lstat_training**2\n",
    "X_squared_lstat_training = x_squared_lstat_training.reshape(x_squared_lstat_training.shape[0], 1)\n",
    "X_lstat_quadratic_training = x_lstat_training.reshape(x_lstat_training.shape[0], 1)  # One column matrix\n",
    "lstat_training_ones = np.ones_like(X_lstat_quadratic_training)\n",
    "X_lstat_quadratic_training = np.hstack((\n",
    "    lstat_training_ones,\n",
    "    X_lstat_quadratic_training,\n",
    "    X_squared_lstat_training\n",
    "))\n",
    "print(\"lstat_training_ones shape:\", lstat_training_ones.shape)\n",
    "print(\"x_squared_lstat_training shape:\", x_squared_lstat_training.shape)\n",
    "print(\"X_lstat_quadratic_training:\", X_lstat_quadratic_training)\n",
    "print(\"X_lstat_quadratic_training shape:\", X_lstat_quadratic_training.shape)\n",
    "print()\n",
    "\n"
   ]
  },
  {
   "cell_type": "markdown",
   "metadata": {},
   "source": [
    "## Performing Experiment 4 on the New Quadratic Matrix\n",
    "With LSTAT as ***X*** and MEDV as ***t***, use *np.linalg.inv()* to compute ***w*** for the training set.\n",
    "\n",
    "***Question***: What is the equation for MEDV as a ***QUADRATIC*** function of LSTAT?"
   ]
  },
  {
   "cell_type": "code",
   "execution_count": 18,
   "metadata": {},
   "outputs": [
    {
     "name": "stdout",
     "output_type": "stream",
     "text": [
      "XTX shape: (3, 3)\n",
      "XTX^-1 shape: (3, 3)\n",
      "XTt: [   9152.4      96065.778  1347974.9532]\n",
      "XTt shape: (3,)\n",
      "lstat_quadratic_weights: [ 4.18618826e+01 -2.16340419e+00  3.82868299e-02]\n",
      "lstat_quadratic_weights shape: (3,)\n",
      "\n"
     ]
    }
   ],
   "source": [
    "\n",
    "# Experiment 7-4\n",
    "\n",
    "# Build each part of the formula piece by piece\n",
    "XTX = np.dot(X_lstat_quadratic_training.T, X_lstat_quadratic_training)\n",
    "XTX_inv = np.linalg.inv(XTX)\n",
    "XTt = np.dot(X_lstat_quadratic_training.T, boston_training_set[\"TARGET\"])\n",
    "lstat_quadratic_weights = np.dot(XTX_inv, XTt)\n",
    "# print(\"XTX:\", XTX)\n",
    "print(\"XTX shape:\", XTX.shape)\n",
    "# print(\"XTX^-1:\", XTX_inv)\n",
    "print(\"XTX^-1 shape:\", XTX_inv.shape)\n",
    "print(\"XTt:\", XTt)\n",
    "print(\"XTt shape:\", XTt.shape)\n",
    "print(\"lstat_quadratic_weights:\", lstat_quadratic_weights)\n",
    "print(\"lstat_quadratic_weights shape:\", lstat_quadratic_weights.shape)\n",
    "print()"
   ]
  },
  {
   "cell_type": "markdown",
   "metadata": {},
   "source": [
    "### What is the equation for MEDV as a ***QUADRATIC*** function of LSTAT?\n",
    "\n",
    "The equation is:\n",
    "$$\n",
    "y = 41.8618826 + (-2.16340419 * \\text{LSTAT}) + .0382868299(\\text{LSTAT}^2)\n",
    "$$\n",
    "\n",
    "or rather\n",
    "\n",
    "$$\n",
    "y = 41.8618826 -2.16340419(\\text{LSTAT}) + .0382868299(\\text{LSTAT}^2)\n",
    "$$\n"
   ]
  },
  {
   "cell_type": "markdown",
   "metadata": {},
   "source": [
    "## Performing Experiment 5 on the new Quadratic Matrix\n",
    "Use ***w*** to add a line to your scatter plot from experiment *(3)*.\n",
    "\n",
    "***Question***: How well does the model appear to fit the training set?"
   ]
  },
  {
   "cell_type": "code",
   "execution_count": 19,
   "metadata": {},
   "outputs": [
    {
     "data": {
      "text/plain": [
       "Text(0.5, 0.98, 'Training Data vs. Quadratic')"
      ]
     },
     "execution_count": 19,
     "metadata": {},
     "output_type": "execute_result"
    },
    {
     "data": {
      "image/png": "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\n",
      "text/plain": [
       "<Figure size 432x288 with 1 Axes>"
      ]
     },
     "metadata": {
      "needs_background": "light"
     },
     "output_type": "display_data"
    }
   ],
   "source": [
    "\n",
    "# Experiment 7-5\n",
    "\n",
    "#\n",
    "predictions_lstat_quadratic_training = np.dot(X_lstat_quadratic_training, lstat_quadratic_weights)\n",
    "\n",
    "#\n",
    "fig, ax = plt.subplots()\n",
    "ax.scatter(X_lstat_quadratic_training[:, 1], boston_training_set.TARGET, label=\"Training Data\")\n",
    "ax.plot(\n",
    "    X_lstat_quadratic_training[:, 1],\n",
    "    predictions_lstat_quadratic_training,\n",
    "    'ro',  # I guess a line doesn't work with this, so I'm using red dots\n",
    "    label='Model Predictions'\n",
    ")\n",
    "ax.legend()\n",
    "fig.suptitle(\"Training Data vs. Quadratic\")\n",
    "\n"
   ]
  },
  {
   "cell_type": "markdown",
   "metadata": {},
   "source": [
    "### How well does the model appear to fit the training set?\n",
    "The model appears to fit the training set more closely than the linear model does. You can see it curving slightly to the visually perceptible curve of the training data. The only remaining issue seems to be the noise, and the training data points smashed up against the top-left area of the graph, which the model chose to ignore to fit better on the remaining data."
   ]
  },
  {
   "cell_type": "markdown",
   "metadata": {},
   "source": [
    "## Performing Experiment 6 on the New Quadratic Matrix\n",
    "Use ***w*** to find the response for each value of the LSTAT attribute in the test set, then\n",
    "compute the test *MSE L* for the model."
   ]
  },
  {
   "cell_type": "code",
   "execution_count": 20,
   "metadata": {},
   "outputs": [
    {
     "name": "stdout",
     "output_type": "stream",
     "text": [
      "X_lstat_quadratic_testing shape: (102, 3)\n",
      "\n",
      "predictions_lstat_quadratic_testing shape: (102,)\n",
      "boston_testing_set.TARGET: 22     15.2\n",
      "202    42.3\n",
      "368    50.0\n",
      "335    21.1\n",
      "461    17.7\n",
      "       ... \n",
      "86     22.5\n",
      "193    31.1\n",
      "5      28.7\n",
      "282    46.0\n",
      "232    41.7\n",
      "Name: TARGET, Length: 102, dtype: float64\n",
      "boston_testing_set.TARGET shape: (102,)\n",
      "MSE for the quadratic model: 23.638115732227128\n",
      "\n",
      "\n",
      "\n",
      "*** Just a recap:\n",
      "MSE of Linear: 39.95751318608687\n",
      "MSE of Quadratic: 23.638115732227128\n",
      "\n"
     ]
    },
    {
     "data": {
      "text/plain": [
       "Text(0.5, 0.98, 'Test Data vs. Quadratic Model')"
      ]
     },
     "execution_count": 20,
     "metadata": {},
     "output_type": "execute_result"
    },
    {
     "data": {
      "image/png": "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\n",
      "text/plain": [
       "<Figure size 432x288 with 1 Axes>"
      ]
     },
     "metadata": {
      "needs_background": "light"
     },
     "output_type": "display_data"
    }
   ],
   "source": [
    "\n",
    "# Experiment 7-6\n",
    "\n",
    "\n",
    "\n",
    "# Build the testing matrix\n",
    "x_lstat_testing = np.array(boston_testing_set[\"LSTAT\"])  # Pull LSTAT from testing\n",
    "x_squared_lstat_testing = x_lstat_testing**2\n",
    "X_lstat_quadratic_testing = np.hstack((\n",
    "   np.ones_like(x_lstat_testing.reshape(x_lstat_testing.shape[0], 1)),\n",
    "    x_lstat_testing.reshape(x_lstat_testing.shape[0], 1),\n",
    "    x_squared_lstat_testing.reshape(x_squared_lstat_testing.shape[0], 1)\n",
    "))\n",
    "# print(\"X_lstat_quadratic_testing: \", X_lstat_quadratic_testing)\n",
    "print(\"X_lstat_quadratic_testing shape:\", X_lstat_quadratic_testing.shape)\n",
    "print()\n",
    "\n",
    "#\n",
    "predictions_lstat_quadratic_testing = np.dot(X_lstat_quadratic_testing, lstat_quadratic_weights)\n",
    "print(\"predictions_lstat_quadratic_testing shape:\", predictions_lstat_quadratic_testing.shape)\n",
    "\n",
    "# TODO: Is there a more numpy-y way to do this?\n",
    "print(\"boston_testing_set.TARGET:\", boston_testing_set.TARGET)\n",
    "print(\"boston_testing_set.TARGET shape:\", boston_testing_set.TARGET.shape)\n",
    "graph_x = []\n",
    "graph_t = []\n",
    "graph_y = []  # Build the graph as we traverse the predictions, to be sure we're pulling correct values\n",
    "error_temp_sum = 0\n",
    "for n in range(len(predictions_lstat_quadratic_testing)):\n",
    "    \n",
    "    lstat = boston_testing_set.LSTAT.iloc[n]\n",
    "    graph_x.append(lstat)\n",
    "    \n",
    "    t = boston_testing_set.TARGET.iloc[n]\n",
    "    graph_t.append(t)\n",
    "    \n",
    "    y = predictions_lstat_quadratic_testing[n]\n",
    "    graph_y.append(y)\n",
    "    \n",
    "    error_squared = (t - y)**2\n",
    "    error_temp_sum += error_squared\n",
    "    \n",
    "    # print(\"Prediction:\", y)\n",
    "    # print(\"Actual:\", t)\n",
    "    # print(\"Error Squared:\", error_squared)\n",
    "    # print()\n",
    "\n",
    "mean_squared_error_quadratic = error_temp_sum / len(predictions_lstat_quadratic_testing)\n",
    "print(\"MSE for the quadratic model:\", mean_squared_error_quadratic)\n",
    "print()\n",
    "\n",
    "print()\n",
    "print()\n",
    "print(\"*** Just a recap:\")\n",
    "print(\"MSE of Linear:\", mean_squared_error_linear)\n",
    "print(\"MSE of Quadratic:\", mean_squared_error_quadratic)\n",
    "print()\n",
    "\n",
    "\n",
    "# Just for extra confidence, show a graph of the test data\n",
    "fig, ax = plt.subplots()\n",
    "ax.scatter(graph_x, graph_t, label=\"Test Data\")\n",
    "ax.plot(\n",
    "    graph_x,\n",
    "    graph_y,\n",
    "    'ro',  # Lines don't work with this I guess, so using more dots hurrayyyy\n",
    "    label='Model Predictions'\n",
    ")\n",
    "ax.legend()\n",
    "fig.suptitle(\"Test Data vs. Quadratic Model\")"
   ]
  },
  {
   "cell_type": "markdown",
   "metadata": {},
   "source": [
    "## Does the quadratic polynomial do a better job of predicting the values in the test set?\n",
    "\n",
    "Yes, the quadratic polynomial model does a better job of predicting the values in the test set. We can see from the above code output (\"Recap\" area), that the MSE of the linear model was about 40, while the MSE of the qudratic model was about 23 and a half. Since the quadratic model had a lower MSE on the test data, it does a better job of predicting the values in the test set.\n"
   ]
  },
  {
   "cell_type": "markdown",
   "metadata": {},
   "source": [
    "# Experiment 8\n",
    "Repeat experiment *(4)* with all 13 input features as ***X*** and using *np.linalg.lstsq()*. (See the Appendix to *Linear regression in vector and matrix format* for details of why we need to switch away from *np.linalg.inv()*, and the notes for *np.linalg.solve()* for why we shouldn’t use that either.)\n",
    "\n",
    "***Question***: Does adding additional features improve the performance on the test set compared to using only LSTAT?"
   ]
  },
  {
   "cell_type": "code",
   "execution_count": 21,
   "metadata": {},
   "outputs": [
    {
     "name": "stdout",
     "output_type": "stream",
     "text": [
      "Original columns: Index(['CRIM', 'ZN', 'INDUS', 'CHAS', 'NOX', 'RM', 'AGE', 'DIS', 'RAD', 'TAX',\n",
      "       'PTRATIO', 'B', 'LSTAT', 'TARGET'],\n",
      "      dtype='object')\n",
      "X_linear_full_training: [[1.00000e+00 4.75470e-01 0.00000e+00 ... 1.84000e+01 3.96230e+02\n",
      "  1.27300e+01]\n",
      " [1.00000e+00 1.27440e-01 0.00000e+00 ... 1.79000e+01 3.85410e+02\n",
      "  4.84000e+00]\n",
      " [1.00000e+00 5.11358e+01 0.00000e+00 ... 2.02000e+01 2.60000e+00\n",
      "  1.01100e+01]\n",
      " ...\n",
      " [1.00000e+00 1.83377e+00 0.00000e+00 ... 1.47000e+01 3.89610e+02\n",
      "  1.92000e+00]\n",
      " [1.00000e+00 3.58090e-01 0.00000e+00 ... 1.74000e+01 3.91700e+02\n",
      "  9.71000e+00]\n",
      " [1.00000e+00 2.92400e+00 0.00000e+00 ... 1.47000e+01 2.40160e+02\n",
      "  9.81000e+00]]\n",
      "X_linear_full_training shape: (404, 14)\n",
      "\n",
      "weights_linear_full: [ 3.35486261e+01 -1.14331280e-01  3.30399664e-02  2.19911151e-02\n",
      "  1.93047806e+00 -1.53459876e+01  4.11678898e+00 -5.20475977e-03\n",
      " -1.26111638e+00  3.52665352e-01 -1.37375084e-02 -1.01521476e+00\n",
      "  9.98692962e-03 -4.90950094e-01]\n",
      "weights_linear_full shape: (14,)\n",
      "residuals_linear_full: [8647.0704626]\n",
      "\n"
     ]
    }
   ],
   "source": [
    "\n",
    "# Experiment 8\n",
    "\n",
    "\n",
    "# Use pandas to build most of the matrix this time\n",
    "X_linear_full_training = boston_training_set[[\n",
    "    'CRIM', 'ZN', 'INDUS', 'CHAS', 'NOX', 'RM', 'AGE', 'DIS', 'RAD', 'TAX', 'PTRATIO', 'B', 'LSTAT'\n",
    "]].to_numpy()\n",
    "X_linear_full_training = np.hstack((\n",
    "    np.ones((X_linear_full_training.shape[0], 1)),\n",
    "    X_linear_full_training\n",
    "))\n",
    "print(\"Original columns:\", boston_training_set.columns)\n",
    "print(\"X_linear_full_training:\", X_linear_full_training)\n",
    "print(\"X_linear_full_training shape:\", X_linear_full_training.shape)\n",
    "print()\n",
    "\n",
    "\n",
    "# Prompt tells us to just use np.linalg.lstsq() this time, because doing the formulastuffs is too slow/inaccurate\n",
    "temp_result = np.linalg.lstsq(X_linear_full_training, boston_training_set[\"TARGET\"], rcond=None)\n",
    "weights_linear_full = temp_result[0]\n",
    "residuals_linear_full = temp_result[1]\n",
    "print(\"weights_linear_full:\", weights_linear_full)\n",
    "print(\"weights_linear_full shape:\", weights_linear_full.shape)\n",
    "print(\"residuals_linear_full:\", residuals_linear_full)\n",
    "print()\n",
    "\n",
    "\n",
    "\n"
   ]
  },
  {
   "cell_type": "markdown",
   "metadata": {},
   "source": [
    "## Equation for All Features\n",
    "\n",
    "The equation using all features is then:\n",
    "\n",
    "$$\n",
    "y = \\\\\n",
    "33.5486261 \\\\\n",
    "- 0.114331280(\\text{CRIM}) \\\\\n",
    "+ 0.0330399664(\\text{ZN}) \\\\\n",
    "+ .0219911151(\\text{INDUS}) \\\\\n",
    "+ 1.93047806(\\text{CHAS}) \\\\\n",
    "- 0.153459876(\\text{NOX}) \\\\\n",
    "+ 4.11678898(\\text{RM}) \\\\\n",
    "- 0.00520475977(\\text{AGE}) \\\\\n",
    "- 1.26111638(\\text{DIS}) \\\\\n",
    "+ 0.352665352(\\text{RAD}) \\\\\n",
    "- 0.0137375084(\\text{TAX}) \\\\\n",
    "- 1.01521476(\\text{PTRATIO}) \\\\\n",
    "+ 0.00998692962(\\text{B}) \\\\\n",
    "- .490950094(\\text{LSTAT}) \\\\\n",
    "$$\n",
    "\n",
    "## Improvement with Additional Features?\n",
    "*Does adding additional features improve the performance on the test set compared to using only LSTAT?*\n",
    "\n",
    "I guess this means we need to calculate MSE against the test set real quick\n"
   ]
  },
  {
   "cell_type": "code",
   "execution_count": 22,
   "metadata": {},
   "outputs": [
    {
     "name": "stdout",
     "output_type": "stream",
     "text": [
      "Original columns: Index(['CRIM', 'ZN', 'INDUS', 'CHAS', 'NOX', 'RM', 'AGE', 'DIS', 'RAD', 'TAX',\n",
      "       'PTRATIO', 'B', 'LSTAT', 'TARGET'],\n",
      "      dtype='object')\n",
      "X_linear_full_testing shape: (102, 14)\n",
      "\n",
      "predictions_linear_full_testing: [15.7702533  36.71063946 22.92009927 21.09046758 20.65808678 19.33583528\n",
      " 13.61594959 12.65044283 15.92229306  3.54938484 18.58371441  1.42781838\n",
      " 22.59568589 19.39937043 14.48330261  5.69778333 33.57541466 28.96722511\n",
      " 28.49294788 24.10243563 13.86099183 30.59353802 30.1125151  29.78031026\n",
      " 19.5704919  20.61249556 23.38238169 30.7554095  15.31766931 18.0729642\n",
      " 27.18311771 19.05666627 17.67096155 20.46510878 33.53891099 25.23463567\n",
      " 13.15986153 13.98688959 22.86709977 22.63056103 10.78647784 25.09977514\n",
      " 22.69450531 19.80529164 18.02389139 15.54479249 15.16064374 20.82156738\n",
      " 34.86912245 17.33973377 21.52999056 14.74968504 33.04617755 27.14161243\n",
      " 23.99227999 21.70788685 18.09074484 14.54045357 33.30703262 30.76183099\n",
      " 22.19477428 28.1593972  19.32372011 16.5568525  16.21669968 17.32937713\n",
      " 12.58277221 13.04849384 11.44331936 16.22546101 22.22548406 13.91308683\n",
      " 32.99191948 17.70997222 13.5048217  12.28698138  9.99111379 13.41453032\n",
      " 18.59847063 14.31946335 29.02969188 39.55303735 15.88324831 27.22886239\n",
      " 19.4521756  22.14084788 19.65583221 41.5207818   8.99869563 13.24864747\n",
      " 27.25986247 42.70871564 24.77226712 34.75762152 35.72118108 24.45136475\n",
      " 29.51680437 22.22008739 31.87217006 25.48693758 40.0080882  38.51885362]\n",
      "predictions_linear_full_testing shape: (102,)\n",
      "\n",
      "Well, the MSE for all features using a linear model was: 24.732458903379197\n",
      "\n",
      "\n",
      "*** Just a recap:\n",
      "MSE of Linear (LSTAT): 39.95751318608687\n",
      "MSE of Linear (Full): 24.732458903379197\n",
      "MSE of Quadratic (LSTAT): 23.638115732227128\n",
      "\n"
     ]
    }
   ],
   "source": [
    "\n",
    "# Build the test set\n",
    "X_linear_full_testing = boston_testing_set[[\n",
    "    'CRIM', 'ZN', 'INDUS', 'CHAS', 'NOX', 'RM', 'AGE', 'DIS', 'RAD', 'TAX', 'PTRATIO', 'B', 'LSTAT'\n",
    "]].to_numpy()\n",
    "X_linear_full_testing = np.hstack((\n",
    "    np.ones((X_linear_full_testing.shape[0], 1)),\n",
    "    X_linear_full_testing\n",
    "))\n",
    "print(\"Original columns:\", boston_testing_set.columns)\n",
    "# print(\"X_linear_full_testing:\", X_linear_full_testing)\n",
    "print(\"X_linear_full_testing shape:\", X_linear_full_testing.shape)\n",
    "print()\n",
    "\n",
    "# Make predictions against the test set\n",
    "predictions_linear_full_testing = np.dot(X_linear_full_testing, weights_linear_full)\n",
    "print(\"predictions_linear_full_testing:\", predictions_linear_full_testing)\n",
    "print(\"predictions_linear_full_testing shape:\", predictions_linear_full_testing.shape)\n",
    "print()\n",
    "\n",
    "# Compute the MSE so we can tell if this is better than the linear model that only uses lstat\n",
    "# (spoiler: Yes)\n",
    "temp_squared_loss = 0\n",
    "for n in range(len(predictions_linear_full_testing)):\n",
    "    \n",
    "    t = boston_testing_set[\"TARGET\"].iloc[n]\n",
    "    y = predictions_linear_full_testing[n]\n",
    "    \n",
    "    squared_loss = (t - y)**2\n",
    "    temp_squared_loss += squared_loss\n",
    "mean_squared_error_linear_full = temp_squared_loss / len(predictions_linear_full_testing)\n",
    "\n",
    "print(\"Well, the MSE for all features using a linear model was:\", mean_squared_error_linear_full)\n",
    "\n",
    "print()\n",
    "print()\n",
    "print(\"*** Just a recap:\")\n",
    "print(\"MSE of Linear (LSTAT):\", mean_squared_error_linear)\n",
    "print(\"MSE of Linear (Full):\", mean_squared_error_linear_full)\n",
    "print(\"MSE of Quadratic (LSTAT):\", mean_squared_error_quadratic)\n",
    "print()\n",
    "\n",
    "\n"
   ]
  },
  {
   "cell_type": "markdown",
   "metadata": {},
   "source": [
    "### Improvement With Additional Features: Answer\n",
    "\n",
    "It does look like, yes, the linear model performs better when it has all features available, than when it only had the LSTAT feature available.\n"
   ]
  },
  {
   "cell_type": "markdown",
   "metadata": {},
   "source": [
    "# Experiment 9\n",
    "Now add ***x^2*** columns for all 13 features, and repeat experiment *(8)*.\n",
    "\n",
    "***Question***: Does adding quadratic features improve the performance on the test set compared to using only linear features?"
   ]
  },
  {
   "cell_type": "markdown",
   "metadata": {},
   "source": [
    "3. The relationship between LSTAT and MEDV does not appear to be linear. "
   ]
  },
  {
   "cell_type": "code",
   "execution_count": 23,
   "metadata": {},
   "outputs": [
    {
     "name": "stdout",
     "output_type": "stream",
     "text": [
      "Original columns: Index(['CRIM', 'ZN', 'INDUS', 'CHAS', 'NOX', 'RM', 'AGE', 'DIS', 'RAD', 'TAX',\n",
      "       'PTRATIO', 'B', 'LSTAT', 'TARGET'],\n",
      "      dtype='object')\n",
      "X_quadratic_full_training: [[1.00000000e+00 4.75470000e-01 2.26071721e-01 ... 1.56998213e+05\n",
      "  1.27300000e+01 1.62052900e+02]\n",
      " [1.00000000e+00 1.27440000e-01 1.62409536e-02 ... 1.48540868e+05\n",
      "  4.84000000e+00 2.34256000e+01]\n",
      " [1.00000000e+00 5.11358000e+01 2.61487004e+03 ... 6.76000000e+00\n",
      "  1.01100000e+01 1.02212100e+02]\n",
      " ...\n",
      " [1.00000000e+00 1.83377000e+00 3.36271241e+00 ... 1.51795952e+05\n",
      "  1.92000000e+00 3.68640000e+00]\n",
      " [1.00000000e+00 3.58090000e-01 1.28228448e-01 ... 1.53428890e+05\n",
      "  9.71000000e+00 9.42841000e+01]\n",
      " [1.00000000e+00 2.92400000e+00 8.54977600e+00 ... 5.76768256e+04\n",
      "  9.81000000e+00 9.62361000e+01]]\n",
      "X_quadratic_full_training shape: (404, 27)\n",
      "\n",
      "weights_quadratic_full: [ 3.35486261e+01 -1.14331280e-01  3.30399664e-02  2.19911151e-02\n",
      "  1.93047806e+00 -1.53459876e+01  4.11678898e+00 -5.20475977e-03\n",
      " -1.26111638e+00  3.52665352e-01 -1.37375084e-02 -1.01521476e+00\n",
      "  9.98692962e-03 -4.90950094e-01]\n",
      "weights_quadratic_full shape: (27,)\n",
      "residuals_quadratic_full: []\n",
      "\n"
     ]
    }
   ],
   "source": [
    "\n",
    "# Experiment 9\n",
    "\n",
    "\n",
    "# Let's build the quadratic by reusing the linear matrix one column at a time\n",
    "# TODO: Is there a better way to do this?\n",
    "# EDIT: Wait a second... we for-sure could have just run a for-loop that plucked a column, then its square ... all we need is whatever function can append a column to a numpy array?\n",
    "temp_target = boston_training_set[\"TARGET\"].to_numpy()\n",
    "temp_nrows = temp_target.shape[0]\n",
    "X_quadratic_full_training = np.hstack((\n",
    "    X_linear_full_training[:,0].reshape(temp_nrows, 1),  # Intercept\n",
    "    X_linear_full_training[:,1].reshape(temp_nrows, 1),  # CRIM\n",
    "    (X_linear_full_training[:,1]**2).reshape(temp_nrows, 1),  # CRIM^2\n",
    "    X_linear_full_training[:,2].reshape(temp_nrows, 1),  # ZN\n",
    "    (X_linear_full_training[:,2]**2).reshape(temp_nrows, 1),  # ZN^2\n",
    "    X_linear_full_training[:,3].reshape(temp_nrows, 1),  # INDUS\n",
    "    (X_linear_full_training[:,3]**2).reshape(temp_nrows, 1),  # INDUS^2\n",
    "    X_linear_full_training[:,4].reshape(temp_nrows, 1),  # CHAS\n",
    "    (X_linear_full_training[:,4]**2).reshape(temp_nrows, 1),  # CHAS^2\n",
    "    X_linear_full_training[:,5].reshape(temp_nrows, 1),  # NOX\n",
    "    (X_linear_full_training[:,5]**2).reshape(temp_nrows, 1),  # NOX^2\n",
    "    X_linear_full_training[:,6].reshape(temp_nrows, 1),  # RM\n",
    "    (X_linear_full_training[:,6]**2).reshape(temp_nrows, 1),  # RM^2\n",
    "    X_linear_full_training[:,7].reshape(temp_nrows, 1),  # AGE\n",
    "    (X_linear_full_training[:,7]**2).reshape(temp_nrows, 1),  # AGE^2\n",
    "    X_linear_full_training[:,8].reshape(temp_nrows, 1),  # DIS\n",
    "    (X_linear_full_training[:,8]**2).reshape(temp_nrows, 1),  # DIS^2\n",
    "    X_linear_full_training[:,9].reshape(temp_nrows, 1),  # RAD\n",
    "    (X_linear_full_training[:,9]**2).reshape(temp_nrows, 1),  # RAD^2\n",
    "    X_linear_full_training[:,10].reshape(temp_nrows, 1),  # TAX\n",
    "    (X_linear_full_training[:,10]**2).reshape(temp_nrows, 1),  # TAX^2\n",
    "    X_linear_full_training[:,11].reshape(temp_nrows, 1),  # PTRATIO\n",
    "    (X_linear_full_training[:,11]**2).reshape(temp_nrows, 1),  # PTRATIO^2\n",
    "    X_linear_full_training[:,12].reshape(temp_nrows, 1),  # B\n",
    "    (X_linear_full_training[:,12]**2).reshape(temp_nrows, 1),  # B^2\n",
    "    X_linear_full_training[:,13].reshape(temp_nrows, 1),  # LSTAT\n",
    "    (X_linear_full_training[:,13]**2).reshape(temp_nrows, 1),  # LSTAT^2\n",
    "))\n",
    "print(\"Original columns:\", boston_training_set.columns)\n",
    "print(\"X_quadratic_full_training:\", X_quadratic_full_training)\n",
    "print(\"X_quadratic_full_training shape:\", X_quadratic_full_training.shape)\n",
    "print()\n",
    "\n",
    "\n",
    "# Prompt tells us to just use np.linalg.lstsq() this time, because doing the formulastuffs is too slow/inaccurate\n",
    "temp_result = np.linalg.lstsq(X_quadratic_full_training, boston_training_set[\"TARGET\"], rcond=None)\n",
    "weights_quadratic_full = temp_result[0]\n",
    "residuals_quadratic_full = temp_result[1]\n",
    "print(\"weights_quadratic_full:\", weights_linear_full)\n",
    "print(\"weights_quadratic_full shape:\", weights_quadratic_full.shape)\n",
    "print(\"residuals_quadratic_full:\", residuals_quadratic_full)\n",
    "print()\n",
    "\n"
   ]
  },
  {
   "cell_type": "code",
   "execution_count": 24,
   "metadata": {},
   "outputs": [
    {
     "name": "stdout",
     "output_type": "stream",
     "text": [
      "Original columns: Index(['CRIM', 'ZN', 'INDUS', 'CHAS', 'NOX', 'RM', 'AGE', 'DIS', 'RAD', 'TAX',\n",
      "       'PTRATIO', 'B', 'LSTAT', 'TARGET'],\n",
      "      dtype='object')\n",
      "X_quadratic_full_testing shape: (102, 27)\n",
      "\n",
      "predictions_quadratic_full_testing: [14.19150865 37.06290003 29.63494918 22.72383377 18.54847425 19.15433977\n",
      " 13.29089545 11.43427894 15.08232883 12.2976386  16.4167378   9.8287164\n",
      " 22.02741391 17.91280563 18.31747227  1.48083875 36.44008031 29.22645619\n",
      " 25.49517927 24.09930787  8.74316506 28.4731348  29.43559004 28.20217936\n",
      " 20.49899698 18.55724721 20.85674767 31.80740559 14.94388551 17.42636119\n",
      " 25.18356116 16.83722471 16.64823534 22.1006924  32.94153326 25.78719133\n",
      " 14.59735944 14.10556451 23.17081151 20.93508362 13.71244352 24.9514724\n",
      " 25.25221666 17.91629123 15.27948538 14.35087256 15.21298392 19.8850881\n",
      " 34.72054934 15.9079605  22.44265702 10.99122174 34.6819421  25.06600009\n",
      " 23.23224703 22.58305467 17.55062624 14.53237948 32.33918345 31.54169071\n",
      " 22.87280489 26.23777117 17.15975283 16.42888155 14.60455463 16.42307264\n",
      " 14.51766577  9.51236113 14.19292963 16.55536613 22.13563084 12.63244138\n",
      " 33.34056072 15.17277967 14.19512248 13.10853404  7.7263677  13.97541161\n",
      " 17.32198613 13.93030378 29.00978686 42.97982774 19.12931663 24.54630508\n",
      " 19.30366401 24.28504652 17.63137842 43.31446062 11.9313302  12.17234479\n",
      " 27.215596   45.83494175 23.71028406 37.27766901 39.93049204 22.57744572\n",
      " 28.24366104 21.1144358  29.57952735 27.03748894 43.9389543  45.43974578]\n",
      "predictions_quadratic_full_testing shape: (102,)\n",
      "\n",
      "Well, the MSE for all features using a quadratic model was: 14.2499372337049\n",
      "\n",
      "\n",
      "*** Just a recap:\n",
      "MSE of Linear (LSTAT): 39.95751318608687\n",
      "MSE of Linear (Full): 24.732458903379197\n",
      "MSE of Quadratic (LSTAT): 23.638115732227128\n",
      "MSE of Quadratic (Full): 14.2499372337049\n",
      "\n"
     ]
    }
   ],
   "source": [
    "\n",
    "# So now let's run our full-featured quadratic model against the test\n",
    "\n",
    "\n",
    "# Let's build the quadratic by reusing the linear matrix one column at a time .... again\n",
    "# TODO: Is there a better way to do this?\n",
    "# 'ya know ... we should have just made a function to generate all this stufffff\n",
    "temp_target = boston_testing_set[\"TARGET\"].to_numpy()\n",
    "temp_nrows = temp_target.shape[0]\n",
    "X_quadratic_full_testing = np.hstack((\n",
    "    X_linear_full_testing[:,0].reshape(temp_nrows, 1),  # Intercept\n",
    "    X_linear_full_testing[:,1].reshape(temp_nrows, 1),  # CRIM\n",
    "    (X_linear_full_testing[:,1]**2).reshape(temp_nrows, 1),  # CRIM^2\n",
    "    X_linear_full_testing[:,2].reshape(temp_nrows, 1),  # ZN\n",
    "    (X_linear_full_testing[:,2]**2).reshape(temp_nrows, 1),  # ZN^2\n",
    "    X_linear_full_testing[:,3].reshape(temp_nrows, 1),  # INDUS\n",
    "    (X_linear_full_testing[:,3]**2).reshape(temp_nrows, 1),  # INDUS^2\n",
    "    X_linear_full_testing[:,4].reshape(temp_nrows, 1),  # CHAS\n",
    "    (X_linear_full_testing[:,4]**2).reshape(temp_nrows, 1),  # CHAS^2\n",
    "    X_linear_full_testing[:,5].reshape(temp_nrows, 1),  # NOX\n",
    "    (X_linear_full_testing[:,5]**2).reshape(temp_nrows, 1),  # NOX^2\n",
    "    X_linear_full_testing[:,6].reshape(temp_nrows, 1),  # RM\n",
    "    (X_linear_full_testing[:,6]**2).reshape(temp_nrows, 1),  # RM^2\n",
    "    X_linear_full_testing[:,7].reshape(temp_nrows, 1),  # AGE\n",
    "    (X_linear_full_testing[:,7]**2).reshape(temp_nrows, 1),  # AGE^2\n",
    "    X_linear_full_testing[:,8].reshape(temp_nrows, 1),  # DIS\n",
    "    (X_linear_full_testing[:,8]**2).reshape(temp_nrows, 1),  # DIS^2\n",
    "    X_linear_full_testing[:,9].reshape(temp_nrows, 1),  # RAD\n",
    "    (X_linear_full_testing[:,9]**2).reshape(temp_nrows, 1),  # RAD^2\n",
    "    X_linear_full_testing[:,10].reshape(temp_nrows, 1),  # TAX\n",
    "    (X_linear_full_testing[:,10]**2).reshape(temp_nrows, 1),  # TAX^2\n",
    "    X_linear_full_testing[:,11].reshape(temp_nrows, 1),  # PTRATIO\n",
    "    (X_linear_full_testing[:,11]**2).reshape(temp_nrows, 1),  # PTRATIO^2\n",
    "    X_linear_full_testing[:,12].reshape(temp_nrows, 1),  # B\n",
    "    (X_linear_full_testing[:,12]**2).reshape(temp_nrows, 1),  # B^2\n",
    "    X_linear_full_testing[:,13].reshape(temp_nrows, 1),  # LSTAT\n",
    "    (X_linear_full_testing[:,13]**2).reshape(temp_nrows, 1),  # LSTAT^2\n",
    "))\n",
    "print(\"Original columns:\", boston_testing_set.columns)\n",
    "# print(\"X_quadratic_full_testing:\", X_quadratic_full_testing)\n",
    "print(\"X_quadratic_full_testing shape:\", X_quadratic_full_testing.shape)\n",
    "print()\n",
    "\n",
    "# Make predictions against the test set\n",
    "predictions_quadratic_full_testing = np.dot(X_quadratic_full_testing, weights_quadratic_full)\n",
    "print(\"predictions_quadratic_full_testing:\", predictions_quadratic_full_testing)\n",
    "print(\"predictions_quadratic_full_testing shape:\", predictions_quadratic_full_testing.shape)\n",
    "print()\n",
    "\n",
    "# Compute the MSE so we can tell if this is better than the quadratic model that only uses lstat\n",
    "# (spoiler: Yes)\n",
    "temp_squared_loss = 0\n",
    "for n in range(len(predictions_quadratic_full_testing)):\n",
    "    \n",
    "    t = boston_testing_set[\"TARGET\"].iloc[n]\n",
    "    y = predictions_quadratic_full_testing[n]\n",
    "    \n",
    "    squared_loss = (t - y)**2\n",
    "    temp_squared_loss += squared_loss\n",
    "mean_squared_error_quadratic_full = temp_squared_loss / len(predictions_quadratic_full_testing)\n",
    "\n",
    "print(\"Well, the MSE for all features using a quadratic model was:\", mean_squared_error_quadratic_full)\n",
    "\n",
    "print()\n",
    "print()\n",
    "print(\"*** Just a recap:\")\n",
    "print(\"MSE of Linear (LSTAT):\", mean_squared_error_linear)\n",
    "print(\"MSE of Linear (Full):\", mean_squared_error_linear_full)\n",
    "print(\"MSE of Quadratic (LSTAT):\", mean_squared_error_quadratic)\n",
    "print(\"MSE of Quadratic (Full):\", mean_squared_error_quadratic_full)\n",
    "print()\n",
    "\n"
   ]
  },
  {
   "cell_type": "markdown",
   "metadata": {},
   "source": [
    "# Improved Performance With Quadratic Features?\n",
    "*Does adding quadratic features improve the performance on the test set compared to using only linear features?*\n",
    "\n",
    "Yes, adding squares of all the features did improve performance over the equivalent linear model. The MSE error for this latest model was around 14 against the test set, while the full featured linear model had a MSE of almost 25.\n"
   ]
  },
  {
   "cell_type": "markdown",
   "metadata": {},
   "source": [
    "# Experiment 10\n",
    "Compute the training MSE for experiments *(8)* and *(9)* and compare it to the test MSE.\n",
    "\n",
    "***Question***: What explains the difference?"
   ]
  },
  {
   "cell_type": "code",
   "execution_count": 25,
   "metadata": {},
   "outputs": [
    {
     "name": "stdout",
     "output_type": "stream",
     "text": [
      "MSE for full featured linear model against training data: 21.40363975889957\n",
      "MSE for full featured quadratic model against training data: 14.703196138766714\n",
      "\n",
      "\n",
      "*** Just a recap:\n",
      "[Testing] MSE of Linear (LSTAT): 39.95751318608687\n",
      "[Testing] MSE of Linear (Full): 24.732458903379197\n",
      "[Training] MSE of Linear (Full): 21.40363975889957\n",
      "[Testing] MSE of Quadratic (LSTAT): 23.638115732227128\n",
      "[Testing] MSE of Quadratic (Full): 14.2499372337049\n",
      "[Training] MSE of Quadratic (Full): 14.703196138766714\n",
      "\n"
     ]
    }
   ],
   "source": [
    "\n",
    "# Experiment 9\n",
    "\n",
    "\n",
    "# Use the full features linear model to generate predictions against the training set\n",
    "predictions_linear_full_training = np.dot(X_linear_full_training, weights_linear_full)\n",
    "predictions_quadratic_full_training = np.dot(X_quadratic_full_training, weights_quadratic_full)\n",
    "temp_error_linear = 0\n",
    "temp_error_quadratic = 0\n",
    "for n in range(len(boston_training_set[\"TARGET\"])):\n",
    "    \n",
    "    t = boston_training_set[\"TARGET\"].iloc[n]\n",
    "    \n",
    "    y_linear = predictions_linear_full_training[n]\n",
    "    y_quadratic = predictions_quadratic_full_training[n]\n",
    "    \n",
    "    error_squared_linear = (y_linear - t) ** 2\n",
    "    error_squared_quadratic = (y_quadratic - t) ** 2\n",
    "    \n",
    "    temp_error_linear += error_squared_linear\n",
    "    temp_error_quadratic += error_squared_quadratic\n",
    "\n",
    "mean_squared_error_full_featured_linear_training = temp_error_linear / len(boston_training_set[\"TARGET\"])\n",
    "mean_squared_error_full_featured_quadratic_training = temp_error_quadratic / len(boston_training_set[\"TARGET\"])\n",
    "\n",
    "print(\"MSE for full featured linear model against training data:\", mean_squared_error_full_featured_linear_training)\n",
    "print(\"MSE for full featured quadratic model against training data:\", mean_squared_error_full_featured_quadratic_training)\n",
    "\n",
    "\n",
    "print()\n",
    "print()\n",
    "print(\"*** Just a recap:\")\n",
    "print(\"[Testing] MSE of Linear (LSTAT):\", mean_squared_error_linear)\n",
    "print(\"[Testing] MSE of Linear (Full):\", mean_squared_error_linear_full)\n",
    "print(\"[Training] MSE of Linear (Full):\", mean_squared_error_full_featured_linear_training)\n",
    "print(\"[Testing] MSE of Quadratic (LSTAT):\", mean_squared_error_quadratic)\n",
    "print(\"[Testing] MSE of Quadratic (Full):\", mean_squared_error_quadratic_full)\n",
    "print(\"[Training] MSE of Quadratic (Full):\", mean_squared_error_full_featured_quadratic_training)\n",
    "print()\n",
    "\n",
    "\n"
   ]
  },
  {
   "cell_type": "markdown",
   "metadata": {},
   "source": [
    "## What explains the difference?: Answer\n",
    "\n",
    "The training loss for the full featured linear model is lower than its testing loss. In this case, the model seems to be slightly over-fitting, perhaps, because it fits the training data a bit more closely than the test data. This could be explained by the idea that the linear model is unable to fit the true function very well because the polynomial degree is underfit, causing the model's weights to slightly overfit, or be less able to generalize.\n",
    "\n",
    "However, the training loss for the full featured quadratic model is a tiny bit *higher* than its testing loss. This suggests that the quadratic model's degree isn't overfitting the data at all, and the model has a solid ability to generalize.\n",
    "\n",
    "***TODO*** Second opinion from partner"
   ]
  }
 ],
 "metadata": {
  "kernelspec": {
   "display_name": "Python 3",
   "language": "python",
   "name": "python3"
  },
  "language_info": {
   "codemirror_mode": {
    "name": "ipython",
    "version": 3
   },
   "file_extension": ".py",
   "mimetype": "text/x-python",
   "name": "python",
   "nbconvert_exporter": "python",
   "pygments_lexer": "ipython3",
   "version": "3.8.3"
  }
 },
 "nbformat": 4,
 "nbformat_minor": 4
}
