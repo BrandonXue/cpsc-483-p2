{
 "cells": [
  {
   "cell_type": "markdown",
   "metadata": {},
   "source": [
    "# Project 2 - Polynomial Models for Boston House Prices\n",
    "\n",
    "## Group members\n",
    "\n",
    "* Michael Peralta (mikeperalta@csu.fullerton.edu)\n",
    "   \n",
    "* Brandon Xue (brandonx@csu.fullerton.edu)\n",
    "\n",
    "### CPSC 483-02, Section ID: 33018"
   ]
  },
  {
   "cell_type": "markdown",
   "metadata": {},
   "source": [
    "# Experiment 1\n",
    "Load and examine the Boston dataset’s features, target values, and description."
   ]
  },
  {
   "cell_type": "code",
   "execution_count": 1,
   "metadata": {},
   "outputs": [
    {
     "name": "stdout",
     "output_type": "stream",
     "text": [
      "--- Loaded Boston dataset; Ready for examination\n",
      "******************************\n",
      "> *** BEGIN DESCRIPTION ***\n",
      ".. _boston_dataset:\n",
      "\n",
      "Boston house prices dataset\n",
      "---------------------------\n",
      "\n",
      "**Data Set Characteristics:**  \n",
      "\n",
      "    :Number of Instances: 506 \n",
      "\n",
      "    :Number of Attributes: 13 numeric/categorical predictive. Median Value (attribute 14) is usually the target.\n",
      "\n",
      "    :Attribute Information (in order):\n",
      "        - CRIM     per capita crime rate by town\n",
      "        - ZN       proportion of residential land zoned for lots over 25,000 sq.ft.\n",
      "        - INDUS    proportion of non-retail business acres per town\n",
      "        - CHAS     Charles River dummy variable (= 1 if tract bounds river; 0 otherwise)\n",
      "        - NOX      nitric oxides concentration (parts per 10 million)\n",
      "        - RM       average number of rooms per dwelling\n",
      "        - AGE      proportion of owner-occupied units built prior to 1940\n",
      "        - DIS      weighted distances to five Boston employment centres\n",
      "        - RAD      index of accessibility to radial highways\n",
      "        - TAX      full-value property-tax rate per $10,000\n",
      "        - PTRATIO  pupil-teacher ratio by town\n",
      "        - B        1000(Bk - 0.63)^2 where Bk is the proportion of blacks by town\n",
      "        - LSTAT    % lower status of the population\n",
      "        - MEDV     Median value of owner-occupied homes in $1000's\n",
      "\n",
      "    :Missing Attribute Values: None\n",
      "\n",
      "    :Creator: Harrison, D. and Rubinfeld, D.L.\n",
      "\n",
      "This is a copy of UCI ML housing dataset.\n",
      "https://archive.ics.uci.edu/ml/machine-learning-databases/housing/\n",
      "\n",
      "\n",
      "This dataset was taken from the StatLib library which is maintained at Carnegie Mellon University.\n",
      "\n",
      "The Boston house-price data of Harrison, D. and Rubinfeld, D.L. 'Hedonic\n",
      "prices and the demand for clean air', J. Environ. Economics & Management,\n",
      "vol.5, 81-102, 1978.   Used in Belsley, Kuh & Welsch, 'Regression diagnostics\n",
      "...', Wiley, 1980.   N.B. Various transformations are used in the table on\n",
      "pages 244-261 of the latter.\n",
      "\n",
      "The Boston house-price data has been used in many machine learning papers that address regression\n",
      "problems.   \n",
      "     \n",
      ".. topic:: References\n",
      "\n",
      "   - Belsley, Kuh & Welsch, 'Regression diagnostics: Identifying Influential Data and Sources of Collinearity', Wiley, 1980. 244-261.\n",
      "   - Quinlan,R. (1993). Combining Instance-Based and Model-Based Learning. In Proceedings on the Tenth International Conference of Machine Learning, 236-243, University of Massachusetts, Amherst. Morgan Kaufmann.\n",
      "\n",
      "> *** END DESCRIPTION ***\n",
      "******************************\n",
      "\n",
      "> Features shape: (506, 13)\n",
      "> Feature names:  ['CRIM' 'ZN' 'INDUS' 'CHAS' 'NOX' 'RM' 'AGE' 'DIS' 'RAD' 'TAX' 'PTRATIO'\n",
      " 'B' 'LSTAT']\n",
      "> Number of Features: 13\n",
      "> Number of Target values: 506\n"
     ]
    }
   ],
   "source": [
    "\n",
    "# Experiment 1\n",
    "\n",
    "import sklearn.datasets as sklearn_datasets\n",
    "import pandas as pd\n",
    "\n",
    "\n",
    "# Import the Boston house prices dataset\n",
    "# (load)\n",
    "boston_house_data = sklearn_datasets.load_boston()\n",
    "\n",
    "\n",
    "# Print out various properties of the Boston house prices dataset\n",
    "# (examine)\n",
    "print(\"--- Loaded Boston dataset; Ready for examination\")\n",
    "print(\"*\" * 30)\n",
    "print(\"> *** BEGIN DESCRIPTION ***\")\n",
    "print(boston_house_data.DESCR) # description\n",
    "print(\"> *** END DESCRIPTION ***\")\n",
    "print(\"*\" * 30)\n",
    "print()\n",
    "print(\"> Features shape:\", boston_house_data.data.shape)\n",
    "print(\"> Feature names: \", boston_house_data.feature_names) # feature names\n",
    "print(\"> Number of Features:\", len(boston_house_data.data[0,:])) # features\n",
    "print(\"> Number of Target values:\", len(boston_house_data.target)) # targets\n",
    "\n",
    "\n"
   ]
  },
  {
   "cell_type": "markdown",
   "metadata": {},
   "source": [
    "# Experiment 2\n",
    "Use *sklearn.model_selection.train_test_split()* to split the features and values into separate training and test sets. Use 80% of the original data as a training set, and 20% for testing.\n"
   ]
  },
  {
   "cell_type": "code",
   "execution_count": 2,
   "metadata": {},
   "outputs": [
    {
     "name": "stdout",
     "output_type": "stream",
     "text": [
      "Training set shape: (404, 14)\n",
      "Training set shape: (404, 14)\n",
      "Testing set shape: (102, 14)\n",
      "Testing set shape: (102, 14)\n",
      "\n"
     ]
    }
   ],
   "source": [
    "# Experiment 2\n",
    "# Partition into training and testing sets\n",
    "\n",
    "\n",
    "from sklearn import model_selection\n",
    "\n",
    "\n",
    "# TODO: What is this?\n",
    "# data_with_targets = zip(boston_house_data.data, boston_house_data.target)\n",
    "# print(\"Data_with_targets:\", data_with_targets)\n",
    "\n",
    "\n",
    "# Load the boston data into a pandas data frame\n",
    "boston_house_data_frame = pd.DataFrame(data=boston_house_data.data, columns=boston_house_data.feature_names)\n",
    "\n",
    "# Add targets to same data frame so they stay paired with other data\n",
    "boston_house_data_frame.insert(len(boston_house_data_frame.columns), 'TARGET', boston_house_data.target)\n",
    "\n",
    "# Split the data into a training set (80%), and a test set (20%)\n",
    "# train_test_split returns a list of the train-test split of inputs\n",
    "boston_training_set, boston_testing_set = model_selection.train_test_split(\n",
    "    boston_house_data_frame,  # Original data to split\n",
    "    train_size=0.8,  # Retain 80% of the data for training (remaining becomes testing)\n",
    "    random_state=113  # Randomize the data before splitting, but use a stable seed for repeatable results\n",
    ")\n",
    "print(\"Training set shape:\", boston_training_set.shape)\n",
    "print(\"Training set shape:\", boston_training_set.shape)\n",
    "print(\"Testing set shape:\", boston_testing_set.shape)\n",
    "print(\"Testing set shape:\", boston_testing_set.shape)\n",
    "print()\n",
    "\n"
   ]
  },
  {
   "cell_type": "markdown",
   "metadata": {},
   "source": [
    "# Experiment 3\n",
    "Create a *scatterplot* of the training set showing the relationship between the feature LSTAT and the target value MEDV.\n",
    "\n",
    "***Question***: Does the relationship appear to be linear?"
   ]
  },
  {
   "cell_type": "code",
   "execution_count": 3,
   "metadata": {},
   "outputs": [
    {
     "data": {
      "text/plain": [
       "Text(0.5, 0.98, 'Training Data')"
      ]
     },
     "execution_count": 3,
     "metadata": {},
     "output_type": "execute_result"
    },
    {
     "data": {
      "image/png": "[encoded data removed]",
      "text/plain": [
       "<Figure size 432x288 with 1 Axes>"
      ]
     },
     "metadata": {
      "needs_background": "light"
     },
     "output_type": "display_data"
    }
   ],
   "source": [
    "# Experiment 3. Scatter plot of training data\n",
    "\n",
    "import matplotlib.pyplot as plt\n",
    "\n",
    "# Ask pyplot for a figure and axis, for a new plot\n",
    "fig, ax = plt.subplots()\n",
    "\n",
    "# Show the relationship between feature LSTAT and TARGET values, using a scatter plot\n",
    "ax.scatter(boston_training_set.LSTAT, boston_training_set.TARGET, label=\"LSTAT vs. MEDV\")\n",
    "ax.legend()\n",
    "fig.suptitle(\"Training Data\")\n",
    "\n",
    "# TODO: What is this?\n",
    "#retval = ax.set(xlabel=\"Training LSTAT (%)\", ylabel=\"Training MEDV (1000 USD)\", title=\"Training MEDV vs. Training LSTAT\")"
   ]
  },
  {
   "cell_type": "markdown",
   "metadata": {},
   "source": [
    "## Does the relationship appear to be linear?\n",
    "\n",
    "The above relationship between the feature LSTAT and the target value MEDV does not quite appear to be linear. If we only examined LSTAT ranges from 10 to 25, it might, but the overall data appears to show a non-linear relationship."
   ]
  },
  {
   "cell_type": "markdown",
   "metadata": {},
   "source": [
    "# Experiment 4\n",
    "With LSTAT as ***X*** and MEDV as ***t***, use *np.linalg.inv()* to compute ***w*** for the training set.\n",
    "\n",
    "***Question***: What is the equation for MEDV as a linear function of LSTAT?"
   ]
  },
  {
   "cell_type": "markdown",
   "metadata": {},
   "source": [
    "We will use the following formula to compute the weights:\n",
    "\n",
    "$$\n",
    "w = (X^TX)^{-1}X^Tt\n",
    "$$\n",
    "\n",
    "(found in the linear_regression_vectors_and_matrices.ipynb notebook)\n",
    "\n",
    "The equation for MEDV as a linear function of LSTAT is written after the code below."
   ]
  },
  {
   "cell_type": "code",
   "execution_count": 4,
   "metadata": {},
   "outputs": [
    {
     "name": "stdout",
     "output_type": "stream",
     "text": [
      "x_lstat_training shape: (404,)\n",
      "\n",
      "X_lstat_linear_training shape: (404, 2)\n",
      "\n",
      "XTX shape: (2, 2)\n",
      "XTX^-1 shape: (2, 2)\n",
      "XTt: [ 9152.4   96065.778]\n",
      "XTt shape: (2,)\n",
      "lstat_linear_weights: [34.38436369 -0.93878862]\n",
      "lstat_linear_weights shape: (2,)\n",
      "\n"
     ]
    }
   ],
   "source": [
    "\n",
    "# Import numpy, yay\n",
    "import numpy as np\n",
    "\n",
    "\n",
    "# X will be LSTAT of the training set\n",
    "# We can combine it with a preceding column of one's for the intercept\n",
    "# (LSTAT will be the next column)\n",
    "\n",
    "# Pull LSTAT from the training set, and stick it into a numpy array\n",
    "x_lstat_training = np.array(boston_training_set[\"LSTAT\"])  # Pull LSTAT from training\n",
    "# print(\"x_lstat_training:\", x_lstat_training)\n",
    "print(\"x_lstat_training shape:\", x_lstat_training.shape)\n",
    "print()\n",
    "\n",
    "# Now, X_lstat_linear_training will be the matrix we'll solve against (training data)\n",
    "# Start with the x_lstat_training values in a column of a matrix\n",
    "X_lstat_linear_training = x_lstat_training.reshape(x_lstat_training.shape[0], 1)\n",
    "# Stick 1's for the intercept in the first column then the LSTAT column as the second column\n",
    "X_lstat_linear_training = np.hstack((np.ones_like(X_lstat_linear_training), X_lstat_linear_training))\n",
    "# print(\"X_lstat_linear_training: \", X)\n",
    "print(\"X_lstat_linear_training shape:\", X_lstat_linear_training.shape)\n",
    "print()\n",
    "\n",
    "\n",
    "# Build each part of the formula piece by piece\n",
    "XTX = np.dot(X_lstat_linear_training.T, X_lstat_linear_training)\n",
    "XTX_inv = np.linalg.inv(XTX)\n",
    "XTt = np.dot(X_lstat_linear_training.T, boston_training_set[\"TARGET\"])\n",
    "lstat_linear_weights = np.dot(XTX_inv, XTt)\n",
    "# print(\"XTX:\", XTX)\n",
    "print(\"XTX shape:\", XTX.shape)\n",
    "# print(\"XTX^-1:\", XTX_inv)\n",
    "print(\"XTX^-1 shape:\", XTX_inv.shape)\n",
    "print(\"XTt:\", XTt)\n",
    "print(\"XTt shape:\", XTt.shape)\n",
    "print(\"lstat_linear_weights:\", lstat_linear_weights)\n",
    "print(\"lstat_linear_weights shape:\", lstat_linear_weights.shape)\n",
    "print()\n",
    "\n"
   ]
  },
  {
   "cell_type": "markdown",
   "metadata": {},
   "source": [
    "## Equation for MEDV as a linear function of LSTAT\n",
    "The equation for MEDV as a linear function of LSTAT is:\n",
    "\n",
    "$$\n",
    "y = 34.38436369 + (-0.93878862 * \\text{LSTAT})\n",
    "$$\n",
    "\n",
    "or rather:\n",
    "\n",
    "$$\n",
    "y = 34.38436369 -0.93878862(\\text{LSTAT})\n",
    "$$\n"
   ]
  },
  {
   "cell_type": "markdown",
   "metadata": {},
   "source": [
    "# Experiment 5\n",
    "\n",
    "Use **w** to add a line to your scatter plot from experiment *(3)*.\n",
    "\n",
    "***Question***: How well does the model appear to fit the training set?\n"
   ]
  },
  {
   "cell_type": "code",
   "execution_count": 5,
   "metadata": {
    "scrolled": true
   },
   "outputs": [
    {
     "data": {
      "text/plain": [
       "<matplotlib.legend.Legend at 0x7f54307544f0>"
      ]
     },
     "execution_count": 5,
     "metadata": {},
     "output_type": "execute_result"
    },
    {
     "data": {
      "image/png": "[encoded data removed]",
      "text/plain": [
       "<Figure size 432x288 with 1 Axes>"
      ]
     },
     "metadata": {
      "needs_background": "light"
     },
     "output_type": "display_data"
    }
   ],
   "source": [
    "\n",
    "# Experiment 5\n",
    "\n",
    "\n",
    "# Make some predictions for the training data\n",
    "# i.e., show the model's linear ... line\n",
    "predictions_lstat_linear_training = np.dot(X_lstat_linear_training, lstat_linear_weights)\n",
    "\n",
    "\n",
    "# Ask pyplot for a figure and axis, for a new plot\n",
    "fig, ax = plt.subplots()\n",
    "\n",
    "\n",
    "# Show the relationship between feature LSTAT and TARGET values, using a scatter plot\n",
    "# (training data)\n",
    "ax.scatter(boston_training_set.LSTAT, boston_training_set.TARGET, label=\"LSTAT vs. MEDV\")\n",
    "ax.plot(x_lstat_training, predictions_lstat_linear_training, 'r-', label=\"Predictions\")\n",
    "fig.suptitle(\"Training Data with Model Predictions\")\n",
    "ax.legend()\n"
   ]
  },
  {
   "cell_type": "markdown",
   "metadata": {},
   "source": [
    "# How well does the model appear to fit the training set?\n",
    "The model fits ... not very well with the training set. It probably has a lot more error than we would like."
   ]
  },
  {
   "cell_type": "markdown",
   "metadata": {},
   "source": [
    "# Experiment 6\n",
    "Use **w** to find the response for each value of the LSTAT attribute in the test set, then compute the test *MSE L* for the model."
   ]
  },
  {
   "cell_type": "code",
   "execution_count": 6,
   "metadata": {},
   "outputs": [
    {
     "name": "stdout",
     "output_type": "stream",
     "text": [
      "x_lstat_testing shape: (102,)\n",
      "\n",
      "X_lstat_linear_testing shape: (102, 2)\n",
      "\n",
      "predictions_lstat_linear_testing shape: (102,)\n",
      "boston_testing_set.TARGET: 22     15.2\n",
      "202    42.3\n",
      "368    50.0\n",
      "335    21.1\n",
      "461    17.7\n",
      "       ... \n",
      "86     22.5\n",
      "193    31.1\n",
      "5      28.7\n",
      "282    46.0\n",
      "232    41.7\n",
      "Name: TARGET, Length: 102, dtype: float64\n",
      "boston_testing_set.TARGET shape: (102,)\n",
      "MSE for the linear model: 39.95751318608693\n",
      "\n"
     ]
    }
   ],
   "source": [
    "\n",
    "\n",
    "# Pull LSTAT from the testing set, and stick it into a numpy array\n",
    "x_lstat_testing = np.array(boston_testing_set[\"LSTAT\"])  # Pull LSTAT from testing\n",
    "print(\"x_lstat_testing shape:\", x_lstat_testing.shape)\n",
    "# print(\"x_lstat_testing:\", x_lstat_testing)\n",
    "print()\n",
    "\n",
    "# Now, X_lstat_linear_testing will be the matrix we'll solve against (training data)\n",
    "# Start with the x_lstat values in a column of a matrix\n",
    "X_lstat_linear_testing = x_lstat_testing.reshape(x_lstat_testing.shape[0], 1)\n",
    "# Stick 1's for the intercept in the first column then the LSTAT column as the second column\n",
    "X_lstat_linear_testing = np.hstack((np.ones_like(X_lstat_linear_testing), X_lstat_linear_testing))\n",
    "# print(\"X_lstat_linear_testing: \", X_lstat_linear_testing)\n",
    "print(\"X_lstat_linear_testing shape:\", X_lstat_linear_testing.shape)\n",
    "print()\n",
    "\n",
    "\n",
    "#\n",
    "predictions_lstat_linear_testing = np.dot(X_lstat_linear_testing, lstat_linear_weights)\n",
    "print(\"predictions_lstat_linear_testing shape:\", predictions_lstat_linear_testing.shape)\n",
    "\n",
    "# TODO: Is there a more numpy-y way to do this?\n",
    "print(\"boston_testing_set.TARGET:\", boston_testing_set.TARGET)\n",
    "print(\"boston_testing_set.TARGET shape:\", boston_testing_set.TARGET.shape)\n",
    "graph_x = []\n",
    "graph_t = []\n",
    "graph_y = []  # Build the graph as we traverse the predictions, to be sure we're pulling correct values\n",
    "error_temp_sum = 0\n",
    "for n in range(len(predictions_lstat_linear_testing)):\n",
    "    \n",
    "    lstat = boston_testing_set.LSTAT.iloc[n]\n",
    "    graph_x.append(lstat)\n",
    "    \n",
    "    t = boston_testing_set.TARGET.iloc[n]\n",
    "    graph_t.append(t)\n",
    "    \n",
    "    y = predictions_lstat_linear_testing[n]\n",
    "    graph_y.append(y)\n",
    "    \n",
    "    error_squared = (t - y)**2\n",
    "    error_temp_sum += error_squared\n",
    "    \n",
    "    # print(\"Prediction:\", y)\n",
    "    # print(\"Actual:\", t)\n",
    "    # print(\"Error Squared:\", error_squared)\n",
    "    # print()\n",
    "\n",
    "mean_squared_error = error_temp_sum / len(predictions_lstat_linear_testing)\n",
    "print(\"MSE for the linear model:\", mean_squared_error)\n",
    "print()\n",
    "\n"
   ]
  },
  {
   "cell_type": "markdown",
   "metadata": {},
   "source": [
    "# MSE For Linear Model\n",
    "\n",
    "The MSE for the linear model appears to be: 39.95751318608693"
   ]
  }
 ],
 "metadata": {
  "kernelspec": {
   "display_name": "Python 3",
   "language": "python",
   "name": "python3"
  },
  "language_info": {
   "codemirror_mode": {
    "name": "ipython",
    "version": 3
   },
   "file_extension": ".py",
   "mimetype": "text/x-python",
   "name": "python",
   "nbconvert_exporter": "python",
   "pygments_lexer": "ipython3",
   "version": "3.8.3"
  }
 },
 "nbformat": 4,
 "nbformat_minor": 4
}
