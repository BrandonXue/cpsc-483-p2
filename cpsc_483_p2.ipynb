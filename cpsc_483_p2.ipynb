{
 "cells": [
  {
   "cell_type": "markdown",
   "metadata": {},
   "source": [
    "# Project 2 - Polynomial Models for Boston House Prices\n",
    "\n",
    "## Group members\n",
    "\n",
    "* Michael Peralta (mikeperalta@csu.fullerton.edu)\n",
    "   \n",
    "* Brandon Xue (brandonx@csu.fullerton.edu)\n",
    "\n",
    "### CPSC 483-02, Section ID: 33018"
   ]
  },
  {
   "cell_type": "markdown",
   "metadata": {},
   "source": [
    "# Experiment 1\n",
    "Load and examine the Boston dataset’s features, target values, and description."
   ]
  },
  {
   "cell_type": "code",
   "execution_count": 1,
   "metadata": {},
   "outputs": [
    {
     "name": "stdout",
     "output_type": "stream",
     "text": [
      "--- Loaded Boston dataset; Ready for examination\n",
      "******************************\n",
      "> *** BEGIN DESCRIPTION ***\n",
      ".. _boston_dataset:\n",
      "\n",
      "Boston house prices dataset\n",
      "---------------------------\n",
      "\n",
      "**Data Set Characteristics:**  \n",
      "\n",
      "    :Number of Instances: 506 \n",
      "\n",
      "    :Number of Attributes: 13 numeric/categorical predictive. Median Value (attribute 14) is usually the target.\n",
      "\n",
      "    :Attribute Information (in order):\n",
      "        - CRIM     per capita crime rate by town\n",
      "        - ZN       proportion of residential land zoned for lots over 25,000 sq.ft.\n",
      "        - INDUS    proportion of non-retail business acres per town\n",
      "        - CHAS     Charles River dummy variable (= 1 if tract bounds river; 0 otherwise)\n",
      "        - NOX      nitric oxides concentration (parts per 10 million)\n",
      "        - RM       average number of rooms per dwelling\n",
      "        - AGE      proportion of owner-occupied units built prior to 1940\n",
      "        - DIS      weighted distances to five Boston employment centres\n",
      "        - RAD      index of accessibility to radial highways\n",
      "        - TAX      full-value property-tax rate per $10,000\n",
      "        - PTRATIO  pupil-teacher ratio by town\n",
      "        - B        1000(Bk - 0.63)^2 where Bk is the proportion of blacks by town\n",
      "        - LSTAT    % lower status of the population\n",
      "        - MEDV     Median value of owner-occupied homes in $1000's\n",
      "\n",
      "    :Missing Attribute Values: None\n",
      "\n",
      "    :Creator: Harrison, D. and Rubinfeld, D.L.\n",
      "\n",
      "This is a copy of UCI ML housing dataset.\n",
      "https://archive.ics.uci.edu/ml/machine-learning-databases/housing/\n",
      "\n",
      "\n",
      "This dataset was taken from the StatLib library which is maintained at Carnegie Mellon University.\n",
      "\n",
      "The Boston house-price data of Harrison, D. and Rubinfeld, D.L. 'Hedonic\n",
      "prices and the demand for clean air', J. Environ. Economics & Management,\n",
      "vol.5, 81-102, 1978.   Used in Belsley, Kuh & Welsch, 'Regression diagnostics\n",
      "...', Wiley, 1980.   N.B. Various transformations are used in the table on\n",
      "pages 244-261 of the latter.\n",
      "\n",
      "The Boston house-price data has been used in many machine learning papers that address regression\n",
      "problems.   \n",
      "     \n",
      ".. topic:: References\n",
      "\n",
      "   - Belsley, Kuh & Welsch, 'Regression diagnostics: Identifying Influential Data and Sources of Collinearity', Wiley, 1980. 244-261.\n",
      "   - Quinlan,R. (1993). Combining Instance-Based and Model-Based Learning. In Proceedings on the Tenth International Conference of Machine Learning, 236-243, University of Massachusetts, Amherst. Morgan Kaufmann.\n",
      "\n",
      "> *** END DESCRIPTION ***\n",
      "******************************\n",
      "\n",
      "> Features shape: (506, 13)\n",
      "> Feature names:  ['CRIM' 'ZN' 'INDUS' 'CHAS' 'NOX' 'RM' 'AGE' 'DIS' 'RAD' 'TAX' 'PTRATIO'\n",
      " 'B' 'LSTAT']\n",
      "> Number of Features: 13\n",
      "> Number of Target values: 506\n"
     ]
    }
   ],
   "source": [
    "\n",
    "# Experiment 1\n",
    "\n",
    "import sklearn.datasets as sklearn_datasets\n",
    "import pandas as pd\n",
    "\n",
    "\n",
    "# Import the Boston house prices dataset\n",
    "# (load)\n",
    "boston_house_data = sklearn_datasets.load_boston()\n",
    "\n",
    "\n",
    "# Print out various properties of the Boston house prices dataset\n",
    "# (examine)\n",
    "print(\"--- Loaded Boston dataset; Ready for examination\")\n",
    "print(\"*\" * 30)\n",
    "print(\"> *** BEGIN DESCRIPTION ***\")\n",
    "print(boston_house_data.DESCR) # description\n",
    "print(\"> *** END DESCRIPTION ***\")\n",
    "print(\"*\" * 30)\n",
    "print()\n",
    "print(\"> Features shape:\", boston_house_data.data.shape)\n",
    "print(\"> Feature names: \", boston_house_data.feature_names) # feature names\n",
    "print(\"> Number of Features:\", len(boston_house_data.data[0,:])) # features\n",
    "print(\"> Number of Target values:\", len(boston_house_data.target)) # targets\n",
    "\n",
    "\n"
   ]
  },
  {
   "cell_type": "markdown",
   "metadata": {},
   "source": [
    "# Experiment 2\n",
    "Use *sklearn.model_selection.train_test_split()* to split the features and values into separate training and test sets. Use 80% of the original data as a training set, and 20% for testing.\n"
   ]
  },
  {
   "cell_type": "code",
   "execution_count": 2,
   "metadata": {},
   "outputs": [
    {
     "name": "stdout",
     "output_type": "stream",
     "text": [
      "Training set shape: (404, 14)\n",
      "Training set shape: (404, 14)\n",
      "Testing set shape: (102, 14)\n",
      "Testing set shape: (102, 14)\n",
      "\n"
     ]
    }
   ],
   "source": [
    "# Experiment 2\n",
    "# Partition into training and testing sets\n",
    "\n",
    "\n",
    "from sklearn import model_selection\n",
    "\n",
    "\n",
    "# TODO: What is this?\n",
    "# data_with_targets = zip(boston_house_data.data, boston_house_data.target)\n",
    "# print(\"Data_with_targets:\", data_with_targets)\n",
    "\n",
    "\n",
    "# Load the boston data into a pandas data frame\n",
    "boston_house_data_frame = pd.DataFrame(data=boston_house_data.data, columns=boston_house_data.feature_names)\n",
    "\n",
    "# Add targets to same data frame so they stay paired with other data\n",
    "boston_house_data_frame.insert(len(boston_house_data_frame.columns), 'TARGET', boston_house_data.target)\n",
    "\n",
    "# Split the data into a training set (80%), and a test set (20%)\n",
    "# train_test_split returns a list of the train-test split of inputs\n",
    "boston_training_set, boston_testing_set = model_selection.train_test_split(\n",
    "    boston_house_data_frame,  # Original data to split\n",
    "    train_size=0.8,  # Retain 80% of the data for training (remaining becomes testing)\n",
    "    random_state=113  # Randomize the data before splitting, but use a stable seed for repeatable results\n",
    ")\n",
    "print(\"Training set shape:\", boston_training_set.shape)\n",
    "print(\"Training set shape:\", boston_training_set.shape)\n",
    "print(\"Testing set shape:\", boston_testing_set.shape)\n",
    "print(\"Testing set shape:\", boston_testing_set.shape)\n",
    "print()\n",
    "\n"
   ]
  },
  {
   "cell_type": "markdown",
   "metadata": {},
   "source": [
    "# Experiment 3\n",
    "Create a *scatterplot* of the training set showing the relationship between the feature LSTAT and the target value MEDV.\n",
    "\n",
    "***Question***: Does the relationship appear to be linear?"
   ]
  },
  {
   "cell_type": "code",
   "execution_count": 3,
   "metadata": {},
   "outputs": [
    {
     "data": {
      "text/plain": [
       "Text(0.5, 0.98, 'Training Data')"
      ]
     },
     "execution_count": 3,
     "metadata": {},
     "output_type": "execute_result"
    },
    {
     "data": {
      "image/png": "[encoded data removed]",
      "text/plain": [
       "<Figure size 432x288 with 1 Axes>"
      ]
     },
     "metadata": {
      "needs_background": "light"
     },
     "output_type": "display_data"
    }
   ],
   "source": [
    "# Experiment 3. Scatter plot of training data\n",
    "\n",
    "import matplotlib.pyplot as plt\n",
    "\n",
    "# Ask pyplot for a figure and axis, for a new plot\n",
    "fig, ax = plt.subplots()\n",
    "\n",
    "# Show the relationship between feature LSTAT and TARGET values, using a scatter plot\n",
    "ax.scatter(boston_training_set.LSTAT, boston_training_set.TARGET, label=\"LSTAT vs. MEDV\")\n",
    "ax.legend()\n",
    "fig.suptitle(\"Training Data\")\n",
    "\n",
    "# TODO: What is this?\n",
    "#retval = ax.set(xlabel=\"Training LSTAT (%)\", ylabel=\"Training MEDV (1000 USD)\", title=\"Training MEDV vs. Training LSTAT\")"
   ]
  },
  {
   "cell_type": "markdown",
   "metadata": {},
   "source": [
    "## Does the relationship appear to be linear?\n",
    "\n",
    "The above relationship between the feature LSTAT and the target value MEDV does not quite appear to be linear. If we only examined LSTAT ranges from 10 to 25, it might, but the overall data appears to show a non-linear relationship."
   ]
  },
  {
   "cell_type": "markdown",
   "metadata": {},
   "source": [
    "# Experiment 4\n",
    "With LSTAT as ***X*** and MEDV as ***t***, use *np.linalg.inv()* to compute ***w*** for the training set.\n",
    "\n",
    "***Question***: What is the equation for MEDV as a linear function of LSTAT?"
   ]
  },
  {
   "cell_type": "markdown",
   "metadata": {},
   "source": [
    "We will use the following formula to compute the weights:\n",
    "\n",
    "$$\n",
    "w = (X^TX)^{-1}X^Tt\n",
    "$$\n",
    "\n",
    "(found in the linear_regression_vectors_and_matrices.ipynb notebook)\n",
    "\n",
    "The equation for MEDV as a linear function of LSTAT is written after the code below."
   ]
  },
  {
   "cell_type": "code",
   "execution_count": 4,
   "metadata": {},
   "outputs": [
    {
     "name": "stdout",
     "output_type": "stream",
     "text": [
      "x_lstat_training shape: (404,)\n",
      "\n",
      "X_lstat_linear_training shape: (404, 2)\n",
      "\n",
      "XTX shape: (2, 2)\n",
      "XTX^-1 shape: (2, 2)\n",
      "XTt: [ 9152.4   96065.778]\n",
      "XTt shape: (2,)\n",
      "lstat_linear_weights: [34.38436369 -0.93878862]\n",
      "lstat_linear_weights shape: (2,)\n",
      "\n"
     ]
    }
   ],
   "source": [
    "\n",
    "# Import numpy, yay\n",
    "import numpy as np\n",
    "\n",
    "\n",
    "# We're going to use a helper function to help us \"expand\" a given matrix into one\n",
    "# that contains extra polynomials, so we can more easily convert from linear to quad and cubic\n",
    "# Expects that the first column of 1's is already setup\n",
    "def make_poly_matrix(matrix_input: np.ndarray, max_degree: int=1, has_ones=False):\n",
    "    \n",
    "    # print(\"Begin make_poly_matrix\")\n",
    "    # print(\"Received input shape:\", matrix_input.shape)\n",
    "    \n",
    "    nrows = matrix_input.shape[0]\n",
    "    \n",
    "    matrix_output = np.array([[]])\n",
    "    \n",
    "    # Start the output matrix\n",
    "    if has_ones is True:\n",
    "        input_ncols = matrix_input.shape[1] - 1\n",
    "        input_startcol = 1\n",
    "        matrix_output = np.append(matrix_input, matrix_output[:,0])\n",
    "        # print(\"Uhm output is now:\", matrix_output.shape)\n",
    "    else:\n",
    "        input_ncols = matrix_input.shape[1]\n",
    "        input_startcol = 0\n",
    "        matrix_output = np.ones(nrows).reshape(nrows, 1)\n",
    "        # print(\"Uhm output is now:\", matrix_output.shape)\n",
    "    \n",
    "    matrix_output_ncols = 1 + (input_ncols * max_degree)\n",
    "    \n",
    "    # Iterate over each column from the input (after the 1's)\n",
    "    for col_index in range(input_startcol, matrix_input.shape[1]):\n",
    "        \n",
    "        # Add polynomials, up to the degree (FYI squared would be degree 2)\n",
    "        # (start with 1 so we can add the original column unchanged)\n",
    "        for the_power in range(1, max_degree + 1):\n",
    "            # print(\"Appending column of power %s\" % (the_power,))\n",
    "            # print(\"Before append:\", matrix_output.shape)\n",
    "            new_column = (matrix_input[:,col_index]**the_power)\n",
    "            # print(\"New column:\", new_column.shape)\n",
    "            matrix_output = np.c_[matrix_output, new_column]\n",
    "            # print(\"After append:\", matrix_output.shape)\n",
    "    \n",
    "    return matrix_output\n",
    "\n",
    "\n",
    "\n",
    "# x_lstat_training will be LSTAT of the training set\n",
    "# We can combine it with a preceding column of one's for the intercept\n",
    "# (LSTAT will be the next column)\n",
    "\n",
    "# Pull LSTAT from the training set, and stick it into a numpy array\n",
    "x_lstat_training = np.array(boston_training_set[\"LSTAT\"])  # Pull LSTAT from training\n",
    "# print(\"x_lstat_training:\", x_lstat_training)\n",
    "print(\"x_lstat_training shape:\", x_lstat_training.shape)\n",
    "print()\n",
    "\n",
    "# Now, X_lstat_linear_training will be the matrix we'll solve against (training data)\n",
    "# Start with the x_lstat_training values in a column of a matrix\n",
    "X_lstat_linear_training = x_lstat_training.reshape(x_lstat_training.shape[0], 1)\n",
    "# Stick 1's for the intercept in the first column then the LSTAT column as the second column\n",
    "X_lstat_linear_training = make_poly_matrix(X_lstat_linear_training, has_ones=False)\n",
    "# print(\"X_lstat_linear_training: \", X)\n",
    "print(\"X_lstat_linear_training shape:\", X_lstat_linear_training.shape)\n",
    "print()\n",
    "\n",
    "\n",
    "# Build each part of the formula piece by piece\n",
    "XTX = np.dot(X_lstat_linear_training.T, X_lstat_linear_training)\n",
    "XTX_inv = np.linalg.inv(XTX)\n",
    "XTt = np.dot(X_lstat_linear_training.T, boston_training_set[\"TARGET\"])\n",
    "lstat_linear_weights = np.dot(XTX_inv, XTt)\n",
    "# print(\"XTX:\", XTX)\n",
    "print(\"XTX shape:\", XTX.shape)\n",
    "# print(\"XTX^-1:\", XTX_inv)\n",
    "print(\"XTX^-1 shape:\", XTX_inv.shape)\n",
    "print(\"XTt:\", XTt)\n",
    "print(\"XTt shape:\", XTt.shape)\n",
    "print(\"lstat_linear_weights:\", lstat_linear_weights)\n",
    "print(\"lstat_linear_weights shape:\", lstat_linear_weights.shape)\n",
    "print()\n",
    "\n"
   ]
  },
  {
   "cell_type": "markdown",
   "metadata": {},
   "source": [
    "## Equation for MEDV as a linear function of LSTAT\n",
    "The equation for MEDV as a linear function of LSTAT is:\n",
    "\n",
    "$$\n",
    "y = 34.38436369 + (-0.93878862 * \\text{LSTAT})\n",
    "$$\n",
    "\n",
    "or rather:\n",
    "\n",
    "$$\n",
    "y = 34.38436369 -0.93878862(\\text{LSTAT})\n",
    "$$\n"
   ]
  },
  {
   "cell_type": "markdown",
   "metadata": {},
   "source": [
    "# Experiment 5\n",
    "\n",
    "Use **w** to add a line to your scatter plot from experiment *(3)*.\n",
    "\n",
    "***Question***: How well does the model appear to fit the training set?\n"
   ]
  },
  {
   "cell_type": "code",
   "execution_count": 5,
   "metadata": {
    "scrolled": true
   },
   "outputs": [
    {
     "data": {
      "text/plain": [
       "<matplotlib.legend.Legend at 0x7f8ec1d403a0>"
      ]
     },
     "execution_count": 5,
     "metadata": {},
     "output_type": "execute_result"
    },
    {
     "data": {
      "image/png": "[encoded data removed]",
      "text/plain": [
       "<Figure size 432x288 with 1 Axes>"
      ]
     },
     "metadata": {
      "needs_background": "light"
     },
     "output_type": "display_data"
    }
   ],
   "source": [
    "\n",
    "# Experiment 5\n",
    "\n",
    "\n",
    "# Make some predictions for the training data\n",
    "# i.e., show the model's linear ... line\n",
    "predictions_lstat_linear_training = np.dot(X_lstat_linear_training, lstat_linear_weights)\n",
    "\n",
    "\n",
    "# Ask pyplot for a figure and axis, for a new plot\n",
    "fig, ax = plt.subplots()\n",
    "\n",
    "\n",
    "# Show the relationship between feature LSTAT and TARGET values, using a scatter plot\n",
    "# (training data)\n",
    "ax.scatter(boston_training_set.LSTAT, boston_training_set.TARGET, label=\"LSTAT vs. MEDV\")\n",
    "ax.plot(x_lstat_training, predictions_lstat_linear_training, 'r-', label=\"Predictions\")\n",
    "fig.suptitle(\"Training Data with Model Predictions\")\n",
    "ax.legend()\n"
   ]
  },
  {
   "cell_type": "markdown",
   "metadata": {},
   "source": [
    "# How well does the model appear to fit the training set?\n",
    "The model fits ... not very well with the training set. It probably has a lot more error than we would like."
   ]
  },
  {
   "cell_type": "markdown",
   "metadata": {},
   "source": [
    "# Experiment 6\n",
    "Use **w** to find the response for each value of the LSTAT attribute in the test set, then compute the test *MSE L* for the model."
   ]
  },
  {
   "cell_type": "code",
   "execution_count": 6,
   "metadata": {},
   "outputs": [
    {
     "name": "stdout",
     "output_type": "stream",
     "text": [
      "x_lstat_testing shape: (102,)\n",
      "\n",
      "X_lstat_linear_testing shape: (102, 2)\n",
      "\n",
      "predictions_lstat_linear_testing shape: (102,)\n",
      "boston_testing_set.TARGET: 22     15.2\n",
      "202    42.3\n",
      "368    50.0\n",
      "335    21.1\n",
      "461    17.7\n",
      "       ... \n",
      "86     22.5\n",
      "193    31.1\n",
      "5      28.7\n",
      "282    46.0\n",
      "232    41.7\n",
      "Name: TARGET, Length: 102, dtype: float64\n",
      "boston_testing_set.TARGET shape: (102,)\n",
      "MSE for the linear model: 39.95751318608693\n",
      "\n"
     ]
    },
    {
     "data": {
      "text/plain": [
       "Text(0.5, 0.98, 'Test Data vs. Linear Model')"
      ]
     },
     "execution_count": 6,
     "metadata": {},
     "output_type": "execute_result"
    },
    {
     "data": {
      "image/png": "[encoded data removed]",
      "text/plain": [
       "<Figure size 432x288 with 1 Axes>"
      ]
     },
     "metadata": {
      "needs_background": "light"
     },
     "output_type": "display_data"
    }
   ],
   "source": [
    "\n",
    "# Experiment 6\n",
    "\n",
    "# Pull LSTAT from the testing set, and stick it into a numpy array\n",
    "x_lstat_testing = np.array(boston_testing_set[\"LSTAT\"])  # Pull LSTAT from testing\n",
    "print(\"x_lstat_testing shape:\", x_lstat_testing.shape)\n",
    "# print(\"x_lstat_testing:\", x_lstat_testing)\n",
    "print()\n",
    "\n",
    "\n",
    "# Now, X_lstat_linear_testing will be the matrix we'll predict against\n",
    "# Start with the x_lstat values in a column of a matrix\n",
    "X_lstat_linear_testing = x_lstat_testing.reshape(x_lstat_testing.shape[0], 1)\n",
    "X_lstat_linear_testing = make_poly_matrix(X_lstat_linear_testing, max_degree=1, has_ones=False)\n",
    "# print(\"X_lstat_linear_testing: \", X_lstat_linear_testing)\n",
    "print(\"X_lstat_linear_testing shape:\", X_lstat_linear_testing.shape)\n",
    "print()\n",
    "\n",
    "\n",
    "#\n",
    "predictions_lstat_linear_testing = np.dot(X_lstat_linear_testing, lstat_linear_weights)\n",
    "print(\"predictions_lstat_linear_testing shape:\", predictions_lstat_linear_testing.shape)\n",
    "\n",
    "# TODO: Is there a more numpy-y way to do this?\n",
    "print(\"boston_testing_set.TARGET:\", boston_testing_set.TARGET)\n",
    "print(\"boston_testing_set.TARGET shape:\", boston_testing_set.TARGET.shape)\n",
    "graph_x = []\n",
    "graph_t = []\n",
    "graph_y = []  # Build the graph as we traverse the predictions, to be sure we're pulling correct values\n",
    "error_temp_sum = 0\n",
    "for n in range(len(predictions_lstat_linear_testing)):\n",
    "    \n",
    "    lstat = boston_testing_set.LSTAT.iloc[n]\n",
    "    graph_x.append(lstat)\n",
    "    \n",
    "    t = boston_testing_set.TARGET.iloc[n]\n",
    "    graph_t.append(t)\n",
    "    \n",
    "    y = predictions_lstat_linear_testing[n]\n",
    "    graph_y.append(y)\n",
    "    \n",
    "    error_squared = (t - y)**2\n",
    "    error_temp_sum += error_squared\n",
    "    \n",
    "    # print(\"Prediction:\", y)\n",
    "    # print(\"Actual:\", t)\n",
    "    # print(\"Error Squared:\", error_squared)\n",
    "    # print()\n",
    "\n",
    "mean_squared_error_linear = error_temp_sum / len(predictions_lstat_linear_testing)\n",
    "print(\"MSE for the linear model:\", mean_squared_error_linear)\n",
    "print()\n",
    "\n",
    "\n",
    "# Just for extra confidence, show a graph of the test data\n",
    "fig, ax = plt.subplots()\n",
    "ax.scatter(graph_x, graph_t, label=\"Test Data\")\n",
    "ax.plot(graph_x, graph_y, 'r-', label='Model Predictions')\n",
    "ax.legend()\n",
    "fig.suptitle(\"Test Data vs. Linear Model\")"
   ]
  },
  {
   "cell_type": "markdown",
   "metadata": {},
   "source": [
    "##  MSE For Linear Model\n",
    "\n",
    "The MSE for the linear model appears to be: 39.95751318608693"
   ]
  },
  {
   "cell_type": "markdown",
   "metadata": {},
   "source": [
    "# Experiment 7\n",
    "Now add an *x 2* column to LSTAT’s *x* column in the training set, then repeat experiments *(4)* , *(5)*, and *(6)* for MEDV as a quadratic function of LSTAT.\n",
    "\n",
    "***Question***: Does the quadratic polynomial do a better job of predicting the values in the test set?"
   ]
  },
  {
   "cell_type": "markdown",
   "metadata": {},
   "source": [
    "## Building a Quadratic Matrix"
   ]
  },
  {
   "cell_type": "code",
   "execution_count": 7,
   "metadata": {},
   "outputs": [
    {
     "name": "stdout",
     "output_type": "stream",
     "text": [
      "X_lstat_quadratic_training: [[  1.      12.73   162.0529]\n",
      " [  1.       4.84    23.4256]\n",
      " [  1.      10.11   102.2121]\n",
      " ...\n",
      " [  1.       1.92     3.6864]\n",
      " [  1.       9.71    94.2841]\n",
      " [  1.       9.81    96.2361]]\n",
      "X_lstat_quadratic_training shape: (404, 3)\n",
      "\n"
     ]
    }
   ],
   "source": [
    "\n",
    "# Experiment 7\n",
    "\n",
    "\n",
    "# Build the new training matrix\n",
    "# Same as before but add a new column representing LSTAT^2\n",
    "x_lstat_training = np.array(boston_training_set[\"LSTAT\"])  # Pull LSTAT again\n",
    "X_lstat_quadratic_training = x_lstat_training.reshape(x_lstat_training.shape[0], 1)\n",
    "X_lstat_quadratic_training = make_poly_matrix(X_lstat_quadratic_training, max_degree=2, has_ones=False)\n",
    "\n",
    "# print(\"lstat_training_ones shape:\", lstat_training_ones.shape)\n",
    "# print(\"x_squared_lstat_training shape:\", x_squared_lstat_training.shape)\n",
    "print(\"X_lstat_quadratic_training:\", X_lstat_quadratic_training)\n",
    "print(\"X_lstat_quadratic_training shape:\", X_lstat_quadratic_training.shape)\n",
    "print()\n",
    "\n"
   ]
  },
  {
   "cell_type": "markdown",
   "metadata": {},
   "source": [
    "## Performing Experiment 4 on the New Quadratic Matrix\n",
    "With LSTAT as ***X*** and MEDV as ***t***, use *np.linalg.inv()* to compute ***w*** for the training set.\n",
    "\n",
    "***Question***: What is the equation for MEDV as a ***QUADRATIC*** function of LSTAT?"
   ]
  },
  {
   "cell_type": "code",
   "execution_count": 8,
   "metadata": {},
   "outputs": [
    {
     "name": "stdout",
     "output_type": "stream",
     "text": [
      "XTX shape: (3, 3)\n",
      "XTX^-1 shape: (3, 3)\n",
      "XTt: [   9152.4      96065.778  1347974.9532]\n",
      "XTt shape: (3,)\n",
      "lstat_quadratic_weights: [ 4.18618826e+01 -2.16340419e+00  3.82868299e-02]\n",
      "lstat_quadratic_weights shape: (3,)\n",
      "\n"
     ]
    }
   ],
   "source": [
    "\n",
    "# Experiment 7-4\n",
    "\n",
    "# Build each part of the formula piece by piece\n",
    "XTX = np.dot(X_lstat_quadratic_training.T, X_lstat_quadratic_training)\n",
    "XTX_inv = np.linalg.inv(XTX)\n",
    "XTt = np.dot(X_lstat_quadratic_training.T, boston_training_set[\"TARGET\"])\n",
    "lstat_quadratic_weights = np.dot(XTX_inv, XTt)\n",
    "# print(\"XTX:\", XTX)\n",
    "print(\"XTX shape:\", XTX.shape)\n",
    "# print(\"XTX^-1:\", XTX_inv)\n",
    "print(\"XTX^-1 shape:\", XTX_inv.shape)\n",
    "print(\"XTt:\", XTt)\n",
    "print(\"XTt shape:\", XTt.shape)\n",
    "print(\"lstat_quadratic_weights:\", lstat_quadratic_weights)\n",
    "print(\"lstat_quadratic_weights shape:\", lstat_quadratic_weights.shape)\n",
    "print()"
   ]
  },
  {
   "cell_type": "markdown",
   "metadata": {},
   "source": [
    "### What is the equation for MEDV as a ***QUADRATIC*** function of LSTAT?\n",
    "\n",
    "The equation is:\n",
    "$$\n",
    "y = 41.8618826 + (-2.16340419 * \\text{LSTAT}) + .0382868299(\\text{LSTAT}^2)\n",
    "$$\n",
    "\n",
    "or rather\n",
    "\n",
    "$$\n",
    "y = 41.8618826 -2.16340419(\\text{LSTAT}) + .0382868299(\\text{LSTAT}^2)\n",
    "$$\n"
   ]
  },
  {
   "cell_type": "markdown",
   "metadata": {},
   "source": [
    "## Performing Experiment 5 on the new Quadratic Matrix\n",
    "Use ***w*** to add a line to your scatter plot from experiment *(3)*.\n",
    "\n",
    "***Question***: How well does the model appear to fit the training set?"
   ]
  },
  {
   "cell_type": "code",
   "execution_count": 44,
   "metadata": {},
   "outputs": [
    {
     "data": {
      "text/plain": [
       "Text(0.5, 0.98, 'Training Data vs. Quadratic')"
      ]
     },
     "execution_count": 44,
     "metadata": {},
     "output_type": "execute_result"
    },
    {
     "data": {
      "image/png": "[encoded data removed]",
      "text/plain": [
       "<Figure size 432x288 with 1 Axes>"
      ]
     },
     "metadata": {
      "needs_background": "light"
     },
     "output_type": "display_data"
    }
   ],
   "source": [
    "\n",
    "# Experiment 7-5\n",
    "\n",
    "#\n",
    "predictions_lstat_quadratic_training = np.dot(X_lstat_quadratic_training, lstat_quadratic_weights)\n",
    "\n",
    "#\n",
    "fig, ax = plt.subplots()\n",
    "ax.scatter(X_lstat_quadratic_training[:, 1], boston_training_set.TARGET, label=\"Training Data\")\n",
    "ax.plot(\n",
    "    X_lstat_quadratic_training[:, 1],\n",
    "    predictions_lstat_quadratic_training,\n",
    "    'r.',  # I guess a line doesn't work with this, so I'm using red dots\n",
    "    label='Model Predictions'\n",
    ")\n",
    "ax.legend()\n",
    "fig.suptitle(\"Training Data vs. Quadratic\")\n",
    "\n"
   ]
  },
  {
   "cell_type": "markdown",
   "metadata": {},
   "source": [
    "### How well does the model appear to fit the training set?\n",
    "The model appears to fit the training set more closely than the linear model does. You can see it curving slightly to the visually perceptible curve of the training data. The only remaining issue seems to be the noise, and the training data points smashed up against the top-left area of the graph, which the model chose to ignore to fit better on the remaining data."
   ]
  },
  {
   "cell_type": "markdown",
   "metadata": {},
   "source": [
    "## Performing Experiment 6 on the New Quadratic Matrix\n",
    "Use ***w*** to find the response for each value of the LSTAT attribute in the test set, then\n",
    "compute the test *MSE L* for the model."
   ]
  },
  {
   "cell_type": "code",
   "execution_count": 43,
   "metadata": {},
   "outputs": [
    {
     "name": "stdout",
     "output_type": "stream",
     "text": [
      "X_lstat_quadratic_testing shape: (102, 3)\n",
      "\n",
      "predictions_lstat_quadratic_testing shape: (102,)\n",
      "boston_testing_set.TARGET: 22     15.2\n",
      "202    42.3\n",
      "368    50.0\n",
      "335    21.1\n",
      "461    17.7\n",
      "       ... \n",
      "86     22.5\n",
      "193    31.1\n",
      "5      28.7\n",
      "282    46.0\n",
      "232    41.7\n",
      "Name: TARGET, Length: 102, dtype: float64\n",
      "boston_testing_set.TARGET shape: (102,)\n",
      "MSE for the quadratic model: 23.63811573222816\n",
      "\n",
      "\n",
      "\n",
      "*** Just a recap:\n",
      "MSE of Linear: 39.95751318608693\n",
      "MSE of Quadratic: 23.63811573222816\n",
      "\n"
     ]
    },
    {
     "data": {
      "text/plain": [
       "Text(0.5, 0.98, 'Test Data vs. Quadratic Model')"
      ]
     },
     "execution_count": 43,
     "metadata": {},
     "output_type": "execute_result"
    },
    {
     "data": {
      "image/png": "[encoded data removed]",
      "text/plain": [
       "<Figure size 432x288 with 1 Axes>"
      ]
     },
     "metadata": {
      "needs_background": "light"
     },
     "output_type": "display_data"
    }
   ],
   "source": [
    "\n",
    "# Experiment 7-6\n",
    "\n",
    "\n",
    "\n",
    "# Build the testing matrix\n",
    "x_lstat_testing = np.array(boston_testing_set[\"LSTAT\"])  # Pull LSTAT from testing\n",
    "X_lstat_quadratic_testing = x_lstat_testing.reshape(x_lstat_testing.shape[0], 1)\n",
    "X_lstat_quadratic_testing = make_poly_matrix(X_lstat_quadratic_testing, max_degree=2, has_ones=False)\n",
    "\n",
    "# print(\"X_lstat_quadratic_testing: \", X_lstat_quadratic_testing)\n",
    "print(\"X_lstat_quadratic_testing shape:\", X_lstat_quadratic_testing.shape)\n",
    "print()\n",
    "\n",
    "#\n",
    "predictions_lstat_quadratic_testing = np.dot(X_lstat_quadratic_testing, lstat_quadratic_weights)\n",
    "print(\"predictions_lstat_quadratic_testing shape:\", predictions_lstat_quadratic_testing.shape)\n",
    "\n",
    "# TODO: Is there a more numpy-y way to do this?\n",
    "print(\"boston_testing_set.TARGET:\", boston_testing_set.TARGET)\n",
    "print(\"boston_testing_set.TARGET shape:\", boston_testing_set.TARGET.shape)\n",
    "graph_x = []\n",
    "graph_t = []\n",
    "graph_y = []  # Build the graph as we traverse the predictions, to be sure we're pulling correct values\n",
    "error_temp_sum = 0\n",
    "for n in range(len(predictions_lstat_quadratic_testing)):\n",
    "    \n",
    "    lstat = boston_testing_set.LSTAT.iloc[n]\n",
    "    graph_x.append(lstat)\n",
    "    \n",
    "    t = boston_testing_set.TARGET.iloc[n]\n",
    "    graph_t.append(t)\n",
    "    \n",
    "    y = predictions_lstat_quadratic_testing[n]\n",
    "    graph_y.append(y)\n",
    "    \n",
    "    error_squared = (t - y)**2\n",
    "    error_temp_sum += error_squared\n",
    "    \n",
    "    # print(\"Prediction:\", y)\n",
    "    # print(\"Actual:\", t)\n",
    "    # print(\"Error Squared:\", error_squared)\n",
    "    # print()\n",
    "\n",
    "mean_squared_error_quadratic = error_temp_sum / len(predictions_lstat_quadratic_testing)\n",
    "print(\"MSE for the quadratic model:\", mean_squared_error_quadratic)\n",
    "print()\n",
    "\n",
    "print()\n",
    "print()\n",
    "print(\"*** Just a recap:\")\n",
    "print(\"MSE of Linear:\", mean_squared_error_linear)\n",
    "print(\"MSE of Quadratic:\", mean_squared_error_quadratic)\n",
    "print()\n",
    "\n",
    "\n",
    "# Just for extra confidence, show a graph of the test data\n",
    "fig, ax = plt.subplots()\n",
    "ax.scatter(graph_x, graph_t, label=\"Test Data\")\n",
    "ax.plot(\n",
    "    graph_x,\n",
    "    graph_y,\n",
    "    'r.',  # Lines don't work with this I guess, so using more dots hurrayyyy\n",
    "    label='Model Predictions'\n",
    ")\n",
    "ax.legend()\n",
    "fig.suptitle(\"Test Data vs. Quadratic Model\")"
   ]
  },
  {
   "cell_type": "markdown",
   "metadata": {},
   "source": [
    "## Does the quadratic polynomial do a better job of predicting the values in the test set?\n",
    "\n",
    "Yes, the quadratic polynomial model does a better job of predicting the values in the test set. We can see from the above code output (\"Recap\" area), that the MSE of the linear model was about 40, while the MSE of the qudratic model was about 23 and a half. Since the quadratic model had a lower MSE on the test data, it does a better job of predicting the values in the test set.\n"
   ]
  },
  {
   "cell_type": "markdown",
   "metadata": {},
   "source": [
    "# Experiment 8\n",
    "Repeat experiment *(4)* with all 13 input features as ***X*** and using *np.linalg.lstsq()*. (See the Appendix to *Linear regression in vector and matrix format* for details of why we need to switch away from *np.linalg.inv()*, and the notes for *np.linalg.solve()* for why we shouldn’t use that either.)\n",
    "\n",
    "***Question***: Does adding additional features improve the performance on the test set compared to using only LSTAT?"
   ]
  },
  {
   "cell_type": "code",
   "execution_count": 11,
   "metadata": {},
   "outputs": [
    {
     "name": "stdout",
     "output_type": "stream",
     "text": [
      "Original columns: Index(['CRIM', 'ZN', 'INDUS', 'CHAS', 'NOX', 'RM', 'AGE', 'DIS', 'RAD', 'TAX',\n",
      "       'PTRATIO', 'B', 'LSTAT', 'TARGET'],\n",
      "      dtype='object')\n",
      "X_linear_full_training: [[1.00000e+00 4.75470e-01 0.00000e+00 ... 1.84000e+01 3.96230e+02\n",
      "  1.27300e+01]\n",
      " [1.00000e+00 1.27440e-01 0.00000e+00 ... 1.79000e+01 3.85410e+02\n",
      "  4.84000e+00]\n",
      " [1.00000e+00 5.11358e+01 0.00000e+00 ... 2.02000e+01 2.60000e+00\n",
      "  1.01100e+01]\n",
      " ...\n",
      " [1.00000e+00 1.83377e+00 0.00000e+00 ... 1.47000e+01 3.89610e+02\n",
      "  1.92000e+00]\n",
      " [1.00000e+00 3.58090e-01 0.00000e+00 ... 1.74000e+01 3.91700e+02\n",
      "  9.71000e+00]\n",
      " [1.00000e+00 2.92400e+00 0.00000e+00 ... 1.47000e+01 2.40160e+02\n",
      "  9.81000e+00]]\n",
      "X_linear_full_training shape: (404, 14)\n",
      "\n",
      "weights_linear_full: [ 3.35486261e+01 -1.14331280e-01  3.30399664e-02  2.19911151e-02\n",
      "  1.93047806e+00 -1.53459876e+01  4.11678898e+00 -5.20475977e-03\n",
      " -1.26111638e+00  3.52665352e-01 -1.37375084e-02 -1.01521476e+00\n",
      "  9.98692962e-03 -4.90950094e-01]\n",
      "weights_linear_full shape: (14,)\n",
      "residuals_linear_full: [8647.0704626]\n",
      "\n"
     ]
    }
   ],
   "source": [
    "\n",
    "# Experiment 8\n",
    "\n",
    "\n",
    "# Use pandas to build most of the matrix this time\n",
    "temp_column_names = [\n",
    "    'CRIM', 'ZN', 'INDUS', 'CHAS', 'NOX', 'RM', 'AGE', 'DIS', 'RAD', 'TAX', 'PTRATIO', 'B', 'LSTAT'\n",
    "]\n",
    "X_linear_full_training = make_poly_matrix(\n",
    "    boston_training_set[temp_column_names].to_numpy(),\n",
    "    max_degree=1,\n",
    "    has_ones=False\n",
    ")\n",
    "print(\"Original columns:\", boston_training_set.columns)\n",
    "print(\"X_linear_full_training:\", X_linear_full_training)\n",
    "print(\"X_linear_full_training shape:\", X_linear_full_training.shape)\n",
    "print()\n",
    "\n",
    "\n",
    "# Prompt tells us to just use np.linalg.lstsq() this time, because doing the formulastuffs is too slow/inaccurate\n",
    "temp_result = np.linalg.lstsq(X_linear_full_training, boston_training_set[\"TARGET\"], rcond=None)\n",
    "weights_linear_full = temp_result[0]\n",
    "residuals_linear_full = temp_result[1]\n",
    "print(\"weights_linear_full:\", weights_linear_full)\n",
    "print(\"weights_linear_full shape:\", weights_linear_full.shape)\n",
    "print(\"residuals_linear_full:\", residuals_linear_full)\n",
    "print()\n",
    "\n",
    "\n",
    "\n"
   ]
  },
  {
   "cell_type": "markdown",
   "metadata": {},
   "source": [
    "## Equation for All Features\n",
    "\n",
    "The equation using all features is then:\n",
    "\n",
    "$$\n",
    "y = \\\\\n",
    "33.5486261 \\\\\n",
    "- 0.114331280(\\text{CRIM}) \\\\\n",
    "+ 0.0330399664(\\text{ZN}) \\\\\n",
    "+ .0219911151(\\text{INDUS}) \\\\\n",
    "+ 1.93047806(\\text{CHAS}) \\\\\n",
    "- 0.153459876(\\text{NOX}) \\\\\n",
    "+ 4.11678898(\\text{RM}) \\\\\n",
    "- 0.00520475977(\\text{AGE}) \\\\\n",
    "- 1.26111638(\\text{DIS}) \\\\\n",
    "+ 0.352665352(\\text{RAD}) \\\\\n",
    "- 0.0137375084(\\text{TAX}) \\\\\n",
    "- 1.01521476(\\text{PTRATIO}) \\\\\n",
    "+ 0.00998692962(\\text{B}) \\\\\n",
    "- .490950094(\\text{LSTAT}) \\\\\n",
    "$$\n",
    "\n",
    "## Improvement with Additional Features?\n",
    "*Does adding additional features improve the performance on the test set compared to using only LSTAT?*\n",
    "\n",
    "I guess this means we need to calculate MSE against the test set real quick\n"
   ]
  },
  {
   "cell_type": "code",
   "execution_count": 12,
   "metadata": {},
   "outputs": [
    {
     "name": "stdout",
     "output_type": "stream",
     "text": [
      "Original columns: Index(['CRIM', 'ZN', 'INDUS', 'CHAS', 'NOX', 'RM', 'AGE', 'DIS', 'RAD', 'TAX',\n",
      "       'PTRATIO', 'B', 'LSTAT', 'TARGET'],\n",
      "      dtype='object')\n",
      "X_linear_full_testing shape: (102, 14)\n",
      "\n",
      "predictions_linear_full_testing: [15.7702533  36.71063946 22.92009927 21.09046758 20.65808678 19.33583528\n",
      " 13.61594959 12.65044283 15.92229306  3.54938484 18.58371441  1.42781838\n",
      " 22.59568589 19.39937043 14.48330261  5.69778333 33.57541466 28.96722511\n",
      " 28.49294788 24.10243563 13.86099183 30.59353802 30.1125151  29.78031026\n",
      " 19.5704919  20.61249556 23.38238169 30.7554095  15.31766931 18.0729642\n",
      " 27.18311771 19.05666627 17.67096155 20.46510878 33.53891099 25.23463567\n",
      " 13.15986153 13.98688959 22.86709977 22.63056103 10.78647784 25.09977514\n",
      " 22.69450531 19.80529164 18.02389139 15.54479249 15.16064374 20.82156738\n",
      " 34.86912245 17.33973377 21.52999056 14.74968504 33.04617755 27.14161243\n",
      " 23.99227999 21.70788685 18.09074484 14.54045357 33.30703262 30.76183099\n",
      " 22.19477428 28.1593972  19.32372011 16.5568525  16.21669968 17.32937713\n",
      " 12.58277221 13.04849384 11.44331936 16.22546101 22.22548406 13.91308683\n",
      " 32.99191948 17.70997222 13.5048217  12.28698138  9.99111379 13.41453032\n",
      " 18.59847063 14.31946335 29.02969188 39.55303735 15.88324831 27.22886239\n",
      " 19.4521756  22.14084788 19.65583221 41.5207818   8.99869563 13.24864747\n",
      " 27.25986247 42.70871564 24.77226712 34.75762152 35.72118108 24.45136475\n",
      " 29.51680437 22.22008739 31.87217006 25.48693758 40.0080882  38.51885362]\n",
      "predictions_linear_full_testing shape: (102,)\n",
      "\n",
      "Well, the MSE for all features using a linear model was: 24.732458903379182\n",
      "\n",
      "\n",
      "*** Just a recap:\n",
      "MSE of Linear (LSTAT): 39.95751318608693\n",
      "MSE of Linear (Full): 24.732458903379182\n",
      "MSE of Quadratic (LSTAT): 23.63811573222816\n",
      "\n"
     ]
    }
   ],
   "source": [
    "\n",
    "# Build the test set\n",
    "temp_column_names = [\n",
    "    'CRIM', 'ZN', 'INDUS', 'CHAS', 'NOX', 'RM', 'AGE', 'DIS', 'RAD', 'TAX', 'PTRATIO', 'B', 'LSTAT'\n",
    "]\n",
    "X_linear_full_testing = make_poly_matrix(\n",
    "    boston_testing_set[temp_column_names].to_numpy(),\n",
    "    max_degree=1,\n",
    "    has_ones=False\n",
    ")\n",
    "print(\"Original columns:\", boston_testing_set.columns)\n",
    "# print(\"X_linear_full_testing:\", X_linear_full_testing)\n",
    "print(\"X_linear_full_testing shape:\", X_linear_full_testing.shape)\n",
    "print()\n",
    "\n",
    "# Make predictions against the test set\n",
    "predictions_linear_full_testing = np.dot(X_linear_full_testing, weights_linear_full)\n",
    "print(\"predictions_linear_full_testing:\", predictions_linear_full_testing)\n",
    "print(\"predictions_linear_full_testing shape:\", predictions_linear_full_testing.shape)\n",
    "print()\n",
    "\n",
    "# Compute the MSE so we can tell if this is better than the linear model that only uses lstat\n",
    "# (spoiler: Yes)\n",
    "temp_squared_loss = 0\n",
    "for n in range(len(predictions_linear_full_testing)):\n",
    "    \n",
    "    t = boston_testing_set[\"TARGET\"].iloc[n]\n",
    "    y = predictions_linear_full_testing[n]\n",
    "    \n",
    "    squared_loss = (t - y)**2\n",
    "    temp_squared_loss += squared_loss\n",
    "mean_squared_error_linear_full = temp_squared_loss / len(predictions_linear_full_testing)\n",
    "\n",
    "print(\"Well, the MSE for all features using a linear model was:\", mean_squared_error_linear_full)\n",
    "\n",
    "print()\n",
    "print()\n",
    "print(\"*** Just a recap:\")\n",
    "print(\"MSE of Linear (LSTAT):\", mean_squared_error_linear)\n",
    "print(\"MSE of Linear (Full):\", mean_squared_error_linear_full)\n",
    "print(\"MSE of Quadratic (LSTAT):\", mean_squared_error_quadratic)\n",
    "print()\n",
    "\n",
    "\n"
   ]
  },
  {
   "cell_type": "markdown",
   "metadata": {},
   "source": [
    "### Improvement With Additional Features: Answer\n",
    "\n",
    "It does look like, yes, the linear model performs better when it has all features available, than when it only had the LSTAT feature available.\n"
   ]
  },
  {
   "cell_type": "markdown",
   "metadata": {},
   "source": [
    "# Experiment 9\n",
    "Now add ***x^2*** columns for all 13 features, and repeat experiment *(8)*.\n",
    "\n",
    "***Question***: Does adding quadratic features improve the performance on the test set compared to using only linear features?"
   ]
  },
  {
   "cell_type": "code",
   "execution_count": 13,
   "metadata": {},
   "outputs": [
    {
     "name": "stdout",
     "output_type": "stream",
     "text": [
      "Original columns: Index(['CRIM', 'ZN', 'INDUS', 'CHAS', 'NOX', 'RM', 'AGE', 'DIS', 'RAD', 'TAX',\n",
      "       'PTRATIO', 'B', 'LSTAT', 'TARGET'],\n",
      "      dtype='object')\n",
      "X_quadratic_full_training: [[1.00000000e+00 4.75470000e-01 2.26071721e-01 ... 1.56998213e+05\n",
      "  1.27300000e+01 1.62052900e+02]\n",
      " [1.00000000e+00 1.27440000e-01 1.62409536e-02 ... 1.48540868e+05\n",
      "  4.84000000e+00 2.34256000e+01]\n",
      " [1.00000000e+00 5.11358000e+01 2.61487004e+03 ... 6.76000000e+00\n",
      "  1.01100000e+01 1.02212100e+02]\n",
      " ...\n",
      " [1.00000000e+00 1.83377000e+00 3.36271241e+00 ... 1.51795952e+05\n",
      "  1.92000000e+00 3.68640000e+00]\n",
      " [1.00000000e+00 3.58090000e-01 1.28228448e-01 ... 1.53428890e+05\n",
      "  9.71000000e+00 9.42841000e+01]\n",
      " [1.00000000e+00 2.92400000e+00 8.54977600e+00 ... 5.76768256e+04\n",
      "  9.81000000e+00 9.62361000e+01]]\n",
      "X_quadratic_full_training shape: (404, 27)\n",
      "\n",
      "weights_quadratic_full: [ 1.46957942e+02 -3.22141336e-01  2.08101688e-03 -5.15229713e-02\n",
      "  4.99710852e-04 -1.81701729e-01  8.71370049e-03  1.07203936e+00\n",
      "  1.07203936e+00 -1.14502706e+01 -8.11019411e+00 -1.69884785e+01\n",
      "  1.60857755e+00  4.16846735e-03 -1.68459053e-04 -2.64002151e+00\n",
      "  1.50862827e-01  6.54423149e-01 -9.50697029e-03 -2.94164742e-02\n",
      "  1.67569868e-05 -5.20512947e+00  1.23266346e-01  3.56310690e-02\n",
      " -6.27050480e-05 -1.11927382e+00  1.84544548e-02]\n",
      "weights_quadratic_full shape: (27,)\n",
      "residuals_quadratic_full: []\n",
      "\n"
     ]
    }
   ],
   "source": [
    "\n",
    "# Experiment 9\n",
    "\n",
    "\n",
    "# Let's build the quadratic\n",
    "temp_column_names = [\n",
    "    'CRIM', 'ZN', 'INDUS', 'CHAS', 'NOX', 'RM', 'AGE', 'DIS', 'RAD', 'TAX', 'PTRATIO', 'B', 'LSTAT'\n",
    "]\n",
    "X_quadratic_full_training = make_poly_matrix(\n",
    "    boston_training_set[temp_column_names].to_numpy(),\n",
    "    max_degree=2,\n",
    "    has_ones=False\n",
    ")\n",
    "print(\"Original columns:\", boston_training_set.columns)\n",
    "print(\"X_quadratic_full_training:\", X_quadratic_full_training)\n",
    "print(\"X_quadratic_full_training shape:\", X_quadratic_full_training.shape)\n",
    "print()\n",
    "\n",
    "\n",
    "# Prompt tells us to just use np.linalg.lstsq() this time, because doing the formulastuffs is too slow/inaccurate\n",
    "temp_result = np.linalg.lstsq(X_quadratic_full_training, boston_training_set[\"TARGET\"], rcond=None)\n",
    "weights_quadratic_full = temp_result[0]\n",
    "residuals_quadratic_full = temp_result[1]\n",
    "print(\"weights_quadratic_full:\", weights_quadratic_full)\n",
    "print(\"weights_quadratic_full shape:\", weights_quadratic_full.shape)\n",
    "print(\"residuals_quadratic_full:\", residuals_quadratic_full)\n",
    "print()\n",
    "\n"
   ]
  },
  {
   "cell_type": "code",
   "execution_count": 14,
   "metadata": {},
   "outputs": [
    {
     "name": "stdout",
     "output_type": "stream",
     "text": [
      "Original columns: Index(['CRIM', 'ZN', 'INDUS', 'CHAS', 'NOX', 'RM', 'AGE', 'DIS', 'RAD', 'TAX',\n",
      "       'PTRATIO', 'B', 'LSTAT', 'TARGET'],\n",
      "      dtype='object')\n",
      "X_quadratic_full_testing shape: (102, 27)\n",
      "\n",
      "predictions_quadratic_full_testing: [14.19150865 37.06290003 29.63494918 22.72383377 18.54847425 19.15433977\n",
      " 13.29089545 11.43427894 15.08232883 12.2976386  16.4167378   9.8287164\n",
      " 22.02741391 17.91280563 18.31747227  1.48083875 36.44008031 29.22645619\n",
      " 25.49517927 24.09930787  8.74316506 28.4731348  29.43559004 28.20217936\n",
      " 20.49899698 18.55724721 20.85674767 31.80740559 14.94388551 17.42636119\n",
      " 25.18356116 16.83722471 16.64823534 22.1006924  32.94153326 25.78719133\n",
      " 14.59735944 14.10556451 23.17081151 20.93508362 13.71244352 24.9514724\n",
      " 25.25221666 17.91629123 15.27948538 14.35087256 15.21298392 19.8850881\n",
      " 34.72054934 15.9079605  22.44265702 10.99122174 34.6819421  25.06600009\n",
      " 23.23224703 22.58305467 17.55062624 14.53237948 32.33918345 31.54169071\n",
      " 22.87280489 26.23777117 17.15975283 16.42888155 14.60455463 16.42307263\n",
      " 14.51766577  9.51236113 14.19292963 16.55536613 22.13563084 12.63244138\n",
      " 33.34056072 15.17277967 14.19512248 13.10853404  7.7263677  13.97541161\n",
      " 17.32198613 13.93030378 29.00978686 42.97982774 19.12931663 24.54630508\n",
      " 19.30366401 24.28504652 17.63137842 43.31446062 11.9313302  12.17234479\n",
      " 27.215596   45.83494175 23.71028406 37.27766901 39.93049204 22.57744572\n",
      " 28.24366104 21.1144358  29.57952735 27.03748894 43.9389543  45.43974578]\n",
      "predictions_quadratic_full_testing shape: (102,)\n",
      "\n",
      "Well, the MSE for all features using a quadratic model was: 14.249937233725296\n",
      "\n",
      "\n",
      "*** Just a recap:\n",
      "MSE of Linear (LSTAT): 39.95751318608693\n",
      "MSE of Linear (Full): 24.732458903379182\n",
      "MSE of Quadratic (LSTAT): 23.63811573222816\n",
      "MSE of Quadratic (Full): 14.249937233725296\n",
      "\n"
     ]
    }
   ],
   "source": [
    "\n",
    "# So now let's run our full-featured quadratic model against the test\n",
    "\n",
    "temp_column_names = [\n",
    "    'CRIM', 'ZN', 'INDUS', 'CHAS', 'NOX', 'RM', 'AGE', 'DIS', 'RAD', 'TAX', 'PTRATIO', 'B', 'LSTAT'\n",
    "]\n",
    "X_quadratic_full_testing = make_poly_matrix(\n",
    "    boston_testing_set[temp_column_names].to_numpy(),\n",
    "    max_degree=2,\n",
    "    has_ones=False\n",
    ")\n",
    "print(\"Original columns:\", boston_testing_set.columns)\n",
    "# print(\"X_quadratic_full_testing:\", X_quadratic_full_testing)\n",
    "print(\"X_quadratic_full_testing shape:\", X_quadratic_full_testing.shape)\n",
    "print()\n",
    "\n",
    "# Make predictions against the test set\n",
    "predictions_quadratic_full_testing = np.dot(X_quadratic_full_testing, weights_quadratic_full)\n",
    "print(\"predictions_quadratic_full_testing:\", predictions_quadratic_full_testing)\n",
    "print(\"predictions_quadratic_full_testing shape:\", predictions_quadratic_full_testing.shape)\n",
    "print()\n",
    "\n",
    "# Compute the MSE so we can tell if this is better than the quadratic model that only uses lstat\n",
    "# (spoiler: Yes)\n",
    "temp_squared_loss = 0\n",
    "for n in range(len(predictions_quadratic_full_testing)):\n",
    "    \n",
    "    t = boston_testing_set[\"TARGET\"].iloc[n]\n",
    "    y = predictions_quadratic_full_testing[n]\n",
    "    \n",
    "    squared_loss = (t - y)**2\n",
    "    temp_squared_loss += squared_loss\n",
    "mean_squared_error_quadratic_full = temp_squared_loss / len(predictions_quadratic_full_testing)\n",
    "\n",
    "print(\"Well, the MSE for all features using a quadratic model was:\", mean_squared_error_quadratic_full)\n",
    "\n",
    "print()\n",
    "print()\n",
    "print(\"*** Just a recap:\")\n",
    "print(\"MSE of Linear (LSTAT):\", mean_squared_error_linear)\n",
    "print(\"MSE of Linear (Full):\", mean_squared_error_linear_full)\n",
    "print(\"MSE of Quadratic (LSTAT):\", mean_squared_error_quadratic)\n",
    "print(\"MSE of Quadratic (Full):\", mean_squared_error_quadratic_full)\n",
    "print()\n",
    "\n"
   ]
  },
  {
   "cell_type": "markdown",
   "metadata": {},
   "source": [
    "# Improved Performance With Quadratic Features?\n",
    "*Does adding quadratic features improve the performance on the test set compared to using only linear features?*\n",
    "\n",
    "Yes, adding squares of all the features did improve performance over the equivalent linear model. The MSE error for this latest model was around 14 against the test set, while the full featured linear model had a MSE of almost 25.\n"
   ]
  },
  {
   "cell_type": "markdown",
   "metadata": {},
   "source": [
    "# Experiment 10\n",
    "Compute the training MSE for experiments *(8)* and *(9)* and compare it to the test MSE.\n",
    "\n",
    "***Question***: What explains the difference?"
   ]
  },
  {
   "cell_type": "code",
   "execution_count": 15,
   "metadata": {},
   "outputs": [
    {
     "name": "stdout",
     "output_type": "stream",
     "text": [
      "MSE for full featured linear model against training data: 21.403639758899565\n",
      "MSE for full featured quadratic model against training data: 14.703196138766764\n",
      "\n",
      "\n",
      "*** Just a recap:\n",
      "[Testing] MSE of Linear (LSTAT): 39.95751318608693\n",
      "[Testing] MSE of Linear (Full): 24.732458903379182\n",
      "[Training] MSE of Linear (Full): 21.403639758899565\n",
      "[Testing] MSE of Quadratic (LSTAT): 23.63811573222816\n",
      "[Testing] MSE of Quadratic (Full): 14.249937233725296\n",
      "[Training] MSE of Quadratic (Full): 14.703196138766764\n",
      "\n"
     ]
    }
   ],
   "source": [
    "\n",
    "# Experiment 10\n",
    "\n",
    "\n",
    "# Use the full featured linear model to generate predictions against the training set\n",
    "predictions_linear_full_training = np.dot(X_linear_full_training, weights_linear_full)\n",
    "predictions_quadratic_full_training = np.dot(X_quadratic_full_training, weights_quadratic_full)\n",
    "temp_error_linear = 0\n",
    "temp_error_quadratic = 0\n",
    "for n in range(len(boston_training_set[\"TARGET\"])):\n",
    "    \n",
    "    t = boston_training_set[\"TARGET\"].iloc[n]\n",
    "    \n",
    "    y_linear = predictions_linear_full_training[n]\n",
    "    y_quadratic = predictions_quadratic_full_training[n]\n",
    "    \n",
    "    error_squared_linear = (y_linear - t) ** 2\n",
    "    error_squared_quadratic = (y_quadratic - t) ** 2\n",
    "    \n",
    "    temp_error_linear += error_squared_linear\n",
    "    temp_error_quadratic += error_squared_quadratic\n",
    "\n",
    "mean_squared_error_full_featured_linear_training = temp_error_linear / len(boston_training_set[\"TARGET\"])\n",
    "mean_squared_error_full_featured_quadratic_training = temp_error_quadratic / len(boston_training_set[\"TARGET\"])\n",
    "\n",
    "print(\"MSE for full featured linear model against training data:\", mean_squared_error_full_featured_linear_training)\n",
    "print(\"MSE for full featured quadratic model against training data:\", mean_squared_error_full_featured_quadratic_training)\n",
    "\n",
    "\n",
    "print()\n",
    "print()\n",
    "print(\"*** Just a recap:\")\n",
    "print(\"[Testing] MSE of Linear (LSTAT):\", mean_squared_error_linear)\n",
    "print(\"[Testing] MSE of Linear (Full):\", mean_squared_error_linear_full)\n",
    "print(\"[Training] MSE of Linear (Full):\", mean_squared_error_full_featured_linear_training)\n",
    "print(\"[Testing] MSE of Quadratic (LSTAT):\", mean_squared_error_quadratic)\n",
    "print(\"[Testing] MSE of Quadratic (Full):\", mean_squared_error_quadratic_full)\n",
    "print(\"[Training] MSE of Quadratic (Full):\", mean_squared_error_full_featured_quadratic_training)\n",
    "print()\n",
    "\n",
    "\n"
   ]
  },
  {
   "cell_type": "markdown",
   "metadata": {},
   "source": [
    "## What explains the difference?: Answer\n",
    "\n",
    "The training loss for the full featured linear model is lower than its testing loss. In this case, the model seems to be slightly over-fitting, perhaps, because it fits the training data a bit more closely than the test data. This could be explained by the idea that the linear model is unable to fit the true function very well because the polynomial degree is underfit, causing the model's weights to slightly overfit, or be less able to generalize.\n",
    "\n",
    "However, the training loss for the full featured quadratic model is a tiny bit *higher* than its testing loss. This suggests that the quadratic model's degree isn't overfitting the data at all, and the model has a solid ability to generalize.\n",
    "\n",
    "***TODO*** Second opinion from partner"
   ]
  },
  {
   "cell_type": "markdown",
   "metadata": {},
   "source": [
    "# Experiment 11\n",
    "Repeat experiments *(9)* and *(10)*, adding *x^3* columns in addition to the existing *x* and *x^2* columns for each feature. Does the cubic polynomial do a better job of predicting the values in the training set?\n",
    "\n",
    "***Question***: Does it do a better job of predicting the values in the test set?"
   ]
  },
  {
   "cell_type": "code",
   "execution_count": 16,
   "metadata": {},
   "outputs": [
    {
     "name": "stdout",
     "output_type": "stream",
     "text": [
      "Original columns: Index(['CRIM', 'ZN', 'INDUS', 'CHAS', 'NOX', 'RM', 'AGE', 'DIS', 'RAD', 'TAX',\n",
      "       'PTRATIO', 'B', 'LSTAT', 'TARGET'],\n",
      "      dtype='object')\n",
      "X_cubic_full_training: [[1.00000000e+00 4.75470000e-01 2.26071721e-01 ... 1.27300000e+01\n",
      "  1.62052900e+02 2.06293342e+03]\n",
      " [1.00000000e+00 1.27440000e-01 1.62409536e-02 ... 4.84000000e+00\n",
      "  2.34256000e+01 1.13379904e+02]\n",
      " [1.00000000e+00 5.11358000e+01 2.61487004e+03 ... 1.01100000e+01\n",
      "  1.02212100e+02 1.03336433e+03]\n",
      " ...\n",
      " [1.00000000e+00 1.83377000e+00 3.36271241e+00 ... 1.92000000e+00\n",
      "  3.68640000e+00 7.07788800e+00]\n",
      " [1.00000000e+00 3.58090000e-01 1.28228448e-01 ... 9.71000000e+00\n",
      "  9.42841000e+01 9.15498611e+02]\n",
      " [1.00000000e+00 2.92400000e+00 8.54977600e+00 ... 9.81000000e+00\n",
      "  9.62361000e+01 9.44076141e+02]]\n",
      "X_cubic_full_training shape: (404, 40)\n",
      "\n",
      "weights_cubic_full: [ 1.85031964e+02 -6.11756170e-01  1.08500313e-02 -6.82832201e-05\n",
      " -5.16881179e-02  4.97411991e-04  3.81699542e-07 -5.11064304e-01\n",
      "  5.76849933e-02 -1.69034135e-03  7.32968352e-01  7.33117801e-01\n",
      "  7.33056415e-01  3.08483539e+02 -5.13500261e+02  2.57944995e+02\n",
      " -2.97354881e+01  3.69957388e+00 -1.10706066e-01  1.48806637e-01\n",
      " -3.08396057e-03  1.62989381e-05 -6.71849205e+00  9.81177769e-01\n",
      " -4.68674165e-02  1.48518169e+00 -1.18248771e-01  2.90883598e-03\n",
      " -2.40212205e-01  5.13811674e-04 -3.45711636e-07 -1.35074978e+01\n",
      "  6.11276066e-01 -9.34414665e-03  3.95751450e-03  1.15222404e-04\n",
      " -2.64696194e-07 -1.58685607e+00  5.03958949e-02 -5.91244193e-04]\n",
      "weights_cubic_full shape: (40,)\n",
      "residuals_cubic_full: []\n",
      "\n"
     ]
    }
   ],
   "source": [
    "\n",
    "# Experiment 11-9\n",
    "\n",
    "\n",
    "# Let's build the cubic\n",
    "temp_column_names = [\n",
    "    'CRIM', 'ZN', 'INDUS', 'CHAS', 'NOX', 'RM', 'AGE', 'DIS', 'RAD', 'TAX', 'PTRATIO', 'B', 'LSTAT'\n",
    "]\n",
    "X_cubic_full_training = make_poly_matrix(\n",
    "    boston_training_set[temp_column_names].to_numpy(),\n",
    "    max_degree=3,\n",
    "    has_ones=False\n",
    ")\n",
    "print(\"Original columns:\", boston_training_set.columns)\n",
    "print(\"X_cubic_full_training:\", X_cubic_full_training)\n",
    "print(\"X_cubic_full_training shape:\", X_cubic_full_training.shape)\n",
    "print()\n",
    "\n",
    "\n",
    "# Prompt tells us to just use np.linalg.lstsq() this time, because doing the formulastuffs is too slow/inaccurate\n",
    "temp_result = np.linalg.lstsq(X_cubic_full_training, boston_training_set[\"TARGET\"], rcond=None)\n",
    "weights_cubic_full = temp_result[0]\n",
    "residuals_cubic_full = temp_result[1]\n",
    "print(\"weights_cubic_full:\", weights_cubic_full)\n",
    "print(\"weights_cubic_full shape:\", weights_cubic_full.shape)\n",
    "print(\"residuals_cubic_full:\", residuals_cubic_full)\n",
    "print()\n",
    "\n"
   ]
  },
  {
   "cell_type": "code",
   "execution_count": 17,
   "metadata": {},
   "outputs": [
    {
     "name": "stdout",
     "output_type": "stream",
     "text": [
      "Original columns: Index(['CRIM', 'ZN', 'INDUS', 'CHAS', 'NOX', 'RM', 'AGE', 'DIS', 'RAD', 'TAX',\n",
      "       'PTRATIO', 'B', 'LSTAT', 'TARGET'],\n",
      "      dtype='object')\n",
      "X_cubic_full_testing shape: (102, 40)\n",
      "\n",
      "predictions_cubic_full_testing: [13.49643082 36.44933843 32.09780417 25.43120236 17.92577199 18.34988804\n",
      " 13.78510777 12.51065711 15.29852663 12.5514806  17.13140938  9.59680126\n",
      " 20.50095609 17.59335374 18.27605597  3.25865499 39.24982875 29.39665649\n",
      " 24.32081979 24.11062001  8.42279777 28.72232116 30.6245016  26.39174192\n",
      " 22.33590296 19.89725725 20.42125443 32.49074308 14.43801951 17.67433783\n",
      " 24.58028104 16.44441748 15.42068052 22.145108   33.68028717 26.22283247\n",
      " 14.17904605 13.67853253 23.0938326  20.68637037 11.70425255 24.66734569\n",
      " 28.81493706 17.57688785 14.21811254 13.71555687 14.97846243 19.12738396\n",
      " 34.38502886 15.56346336 23.70676011  9.92044127 33.50672809 24.67628691\n",
      " 22.70492053 20.88728977 17.41407565 14.14234187 32.8546001  31.32695932\n",
      " 21.22234679 26.69361779 17.28413355 17.21069563 14.07671947 15.14275404\n",
      " 14.67265626  8.18262263 14.82909757 16.58830954 22.37439097 11.36947844\n",
      " 35.16633149 14.79769732 13.79500607 13.93274665  8.00554007 14.25975074\n",
      " 17.23471126 15.40439309 29.72812928 43.6857742  18.95923278 22.36275328\n",
      " 19.23205947 27.70158432 18.3688322  44.27452955 12.98954861 13.97464765\n",
      " 27.23379281 46.98914937 23.51220257 39.18214554 38.03166951 22.50209342\n",
      " 29.29228193 20.60591082 27.06946352 29.14725493 46.07984708 44.36057392]\n",
      "predictions_cubic_full_testing shape: (102,)\n",
      "\n",
      "Well, the MSE for all features using a cubic model was: 13.111505300054118\n",
      "\n",
      "\n",
      "*** Just a recap:\n",
      "[Testing] MSE of Linear (LSTAT): 39.95751318608693\n",
      "[Testing] MSE of Linear (Full): 24.732458903379182\n",
      "[Testing] MSE of Quadratic (LSTAT): 23.63811573222816\n",
      "[Testing] MSE of Quadratic (Full): 14.249937233725296\n",
      "[Testing] MSE of Cubic (Full): 13.111505300054118\n",
      "\n"
     ]
    }
   ],
   "source": [
    "\n",
    "# So now let's run our full-featured cubic model against the test\n",
    "\n",
    "temp_column_names = [\n",
    "    'CRIM', 'ZN', 'INDUS', 'CHAS', 'NOX', 'RM', 'AGE', 'DIS', 'RAD', 'TAX', 'PTRATIO', 'B', 'LSTAT'\n",
    "]\n",
    "X_cubic_full_testing = make_poly_matrix(\n",
    "    boston_testing_set[temp_column_names].to_numpy(),\n",
    "    max_degree=3,\n",
    "    has_ones=False\n",
    ")\n",
    "print(\"Original columns:\", boston_testing_set.columns)\n",
    "# print(\"X_cubic_full_testing:\", X_cubic_full_testing)\n",
    "print(\"X_cubic_full_testing shape:\", X_cubic_full_testing.shape)\n",
    "print()\n",
    "\n",
    "# Make predictions against the test set\n",
    "predictions_cubic_full_testing = np.dot(X_cubic_full_testing, weights_cubic_full)\n",
    "print(\"predictions_cubic_full_testing:\", predictions_cubic_full_testing)\n",
    "print(\"predictions_cubic_full_testing shape:\", predictions_cubic_full_testing.shape)\n",
    "print()\n",
    "\n",
    "# Compute the MSE so we can tell if this is better than the quadratic model\n",
    "# (Spoiler nyooooo)\n",
    "temp_squared_loss = 0\n",
    "for n in range(len(predictions_cubic_full_testing)):\n",
    "    \n",
    "    t = boston_testing_set[\"TARGET\"].iloc[n]\n",
    "    y = predictions_cubic_full_testing[n]\n",
    "    \n",
    "    squared_loss = (t - y)**2\n",
    "    temp_squared_loss += squared_loss\n",
    "mean_squared_error_cubic_full = temp_squared_loss / len(predictions_cubic_full_testing)\n",
    "\n",
    "print(\"Well, the MSE for all features using a cubic model was:\", mean_squared_error_cubic_full)\n",
    "\n",
    "print()\n",
    "print()\n",
    "print(\"*** Just a recap:\")\n",
    "print(\"[Testing] MSE of Linear (LSTAT):\", mean_squared_error_linear)\n",
    "print(\"[Testing] MSE of Linear (Full):\", mean_squared_error_linear_full)\n",
    "print(\"[Testing] MSE of Quadratic (LSTAT):\", mean_squared_error_quadratic)\n",
    "print(\"[Testing] MSE of Quadratic (Full):\", mean_squared_error_quadratic_full)\n",
    "print(\"[Testing] MSE of Cubic (Full):\", mean_squared_error_cubic_full)\n",
    "print()\n",
    "\n"
   ]
  },
  {
   "cell_type": "markdown",
   "metadata": {},
   "source": [
    "# Improved Performance With Cubic Features?\n",
    "*Does adding **CUBIC** features improve the performance on the test set compared to using only **LINEAR OR QUADRATIC** features?*\n",
    "\n",
    "Oh wow. Yes. It looks like the cubic model with full features performed slightly better than the quadratic, in testing. This could mean the true function is of cubic or higher order, and may explain why the training loss for the full featured quadratic model was a tad higher than it's testing loss. Perhaps that was an indication that we needed more complexity."
   ]
  },
  {
   "cell_type": "markdown",
   "metadata": {},
   "source": [
    "# Experiment 11-10\n",
    "Compute the training MSE for experiments *(8)* and *(9)* and compare it to the test MSE.\n",
    "\n",
    "***Question***: What explains the difference?"
   ]
  },
  {
   "cell_type": "code",
   "execution_count": 18,
   "metadata": {},
   "outputs": [
    {
     "name": "stdout",
     "output_type": "stream",
     "text": [
      "MSE for full featured cubic model against training data: 13.573120369623549\n",
      "\n",
      "\n",
      "*** Just a recap:\n",
      "[Testing] MSE of Linear (LSTAT): 39.95751318608693\n",
      "[Testing] MSE of Quadratic (LSTAT): 23.63811573222816\n",
      "\n",
      "[Training] MSE of Linear (Full): 21.403639758899565\n",
      "[Training] MSE of Quadratic (Full): 14.703196138766764\n",
      "[Training] MSE of Cubic (Full): 13.573120369623549\n",
      "\n",
      "[Testing] MSE of Linear (Full): 24.732458903379182\n",
      "[Testing] MSE of Quadratic (Full): 14.249937233725296\n",
      "[Testing] MSE of Cubic (Full): 13.111505300054118\n",
      "\n"
     ]
    }
   ],
   "source": [
    "\n",
    "# Experiment 11-10\n",
    "\n",
    "\n",
    "# Prompt has a recursive task: 11 -> \"9 and 10\"; 10 -> \"8 and 9\"\n",
    "# But I think we already have MSE for 8 and 9, so we'll just compute MSE for the cubic\n",
    "\n",
    "\n",
    "# Use the full featured cubic model to generate predictions against the training set\n",
    "predictions_cubic_full_training = np.dot(X_cubic_full_training, weights_cubic_full)\n",
    "temp_error = 0\n",
    "for n in range(len(boston_training_set[\"TARGET\"])):\n",
    "    \n",
    "    t = boston_training_set[\"TARGET\"].iloc[n]\n",
    "    y = predictions_cubic_full_training[n]\n",
    "    \n",
    "    error_squared = (y - t) ** 2\n",
    "    \n",
    "    temp_error += error_squared\n",
    "\n",
    "mean_squared_error_full_featured_cubic_training = temp_error / len(boston_training_set[\"TARGET\"])\n",
    "\n",
    "print(\"MSE for full featured cubic model against training data:\", mean_squared_error_full_featured_cubic_training)\n",
    "\n",
    "\n",
    "print()\n",
    "print()\n",
    "print(\"*** Just a recap:\")\n",
    "print(\"[Testing] MSE of Linear (LSTAT):\", mean_squared_error_linear)\n",
    "print(\"[Testing] MSE of Quadratic (LSTAT):\", mean_squared_error_quadratic)\n",
    "print()\n",
    "print(\"[Training] MSE of Linear (Full):\", mean_squared_error_full_featured_linear_training)\n",
    "print(\"[Training] MSE of Quadratic (Full):\", mean_squared_error_full_featured_quadratic_training)\n",
    "print(\"[Training] MSE of Cubic (Full):\", mean_squared_error_full_featured_cubic_training)\n",
    "print()\n",
    "print(\"[Testing] MSE of Linear (Full):\", mean_squared_error_linear_full)\n",
    "\n",
    "print(\"[Testing] MSE of Quadratic (Full):\", mean_squared_error_quadratic_full)\n",
    "print(\"[Testing] MSE of Cubic (Full):\", mean_squared_error_cubic_full)\n",
    "print()\n",
    "\n",
    "\n"
   ]
  },
  {
   "cell_type": "markdown",
   "metadata": {},
   "source": [
    "## Experiment 11 - Final Answers\n",
    "> Does the cubic polynomial do a better job of predicting the values in the training set?\n",
    "> Does it do a better job of predicting the values in the test set?\n",
    "\n",
    "According to the mean squared errors, the cubic polynomial did the best job predicting against both the training and the test sets!\n",
    "\n",
    "Assuming we didn't make any huge mistakes, or we're seeing \"bad randomization\" of the training/test split, this probably means the true function of the problem we're modeling actually has another curve, beyond one quadratic."
   ]
  },
  {
   "cell_type": "code",
   "execution_count": 56,
   "metadata": {},
   "outputs": [
    {
     "name": "stdout",
     "output_type": "stream",
     "text": [
      "(102, 14)\n"
     ]
    },
    {
     "data": {
      "image/png": "[encoded data removed]",
      "text/plain": [
       "<Figure size 432x288 with 1 Axes>"
      ]
     },
     "metadata": {
      "needs_background": "light"
     },
     "output_type": "display_data"
    },
    {
     "data": {
      "image/png": "[encoded data removed]",
      "text/plain": [
       "<Figure size 432x288 with 1 Axes>"
      ]
     },
     "metadata": {
      "needs_background": "light"
     },
     "output_type": "display_data"
    },
    {
     "data": {
      "image/png": "[encoded data removed]",
      "text/plain": [
       "<Figure size 432x288 with 1 Axes>"
      ]
     },
     "metadata": {
      "needs_background": "light"
     },
     "output_type": "display_data"
    }
   ],
   "source": [
    "\n",
    "\n",
    "# Just for fun ... more graphs pitting linear, quadratic, and cubic against one another\n",
    "# Using the LSTAT for X, but using the full model's predictions for Y\n",
    "\n",
    "\n",
    "# LSTAT is the last index, so ... 13\n",
    "\n",
    "\n",
    "# Linear vs. Testing\n",
    "print(X_linear_full_testing.shape)\n",
    "fig, ax = plt.subplots()\n",
    "ax.scatter(X_linear_full_testing[:, 13], boston_testing_set.TARGET, label=\"Testing Data\")\n",
    "ax.plot(\n",
    "    X_linear_full_testing[:, 13],\n",
    "    predictions_linear_full_testing,\n",
    "    'r.',\n",
    "    label='Model Predictions'\n",
    ")\n",
    "ax.legend()\n",
    "fig.suptitle(\"Testing Data vs. Linear\")\n",
    "\n",
    "\n",
    "\n",
    "# Quadratic vs. Testing\n",
    "fig, ax = plt.subplots()\n",
    "ax.scatter(X_quadratic_full_testing[:, 25], boston_testing_set.TARGET, label=\"Testing Data\")\n",
    "ax.plot(\n",
    "    X_quadratic_full_testing[:, 25],\n",
    "    predictions_quadratic_full_testing,\n",
    "    'r.',\n",
    "    label='Model Predictions'\n",
    ")\n",
    "ax.legend()\n",
    "fig.suptitle(\"Testing Data vs. Quadratic\")\n",
    "\n",
    "\n",
    "# Cubic vs. Testing\n",
    "fig, ax = plt.subplots()\n",
    "ax.scatter(X_cubic_full_testing[:, 37], boston_testing_set.TARGET, label=\"Testing Data\")\n",
    "ax.plot(\n",
    "    X_cubic_full_testing[:, 37],\n",
    "    predictions_cubic_full_testing,\n",
    "    'r.',\n",
    "    label='Model Predictions'\n",
    ")\n",
    "ax.legend()\n",
    "dummy = fig.suptitle(\"Testing Data vs. Cubic\")\n",
    "\n",
    "\n"
   ]
  }
 ],
 "metadata": {
  "kernelspec": {
   "display_name": "Python 3",
   "language": "python",
   "name": "python3"
  },
  "language_info": {
   "codemirror_mode": {
    "name": "ipython",
    "version": 3
   },
   "file_extension": ".py",
   "mimetype": "text/x-python",
   "name": "python",
   "nbconvert_exporter": "python",
   "pygments_lexer": "ipython3",
   "version": "3.8.3"
  }
 },
 "nbformat": 4,
 "nbformat_minor": 4
}
